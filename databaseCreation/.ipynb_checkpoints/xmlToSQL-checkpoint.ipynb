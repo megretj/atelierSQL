{
 "cells": [
  {
   "cell_type": "code",
   "execution_count": 1,
   "metadata": {},
   "outputs": [],
   "source": [
    "from bs4 import BeautifulSoup\n",
    "import re\n",
    "import xmlToSql\n",
    "import sqlite3\n",
    "import pandas as pd"
   ]
  },
  {
   "cell_type": "code",
   "execution_count": 2,
   "metadata": {},
   "outputs": [],
   "source": [
    "with open('frharrypotter_pages_current.xml','r') as f:\n",
    "    file = f.read()\n",
    "\n",
    "soup = BeautifulSoup(file, 'xml')"
   ]
  },
  {
   "cell_type": "code",
   "execution_count": 3,
   "metadata": {},
   "outputs": [],
   "source": [
    "pages = soup.find_all('page')"
   ]
  },
  {
   "cell_type": "code",
   "execution_count": null,
   "metadata": {},
   "outputs": [],
   "source": [
    "with open('personnages.txt','x') as f:\n",
    "    for page in pages:\n",
    "        if \"[[Catégorie:Personnage]]\" in page.text and (\"Catégorie:\" not in page.title.text):\n",
    "            f.write(xmlToSql.getAttribute(\"Nom\",page.text) +\" \"+ xmlToSql.getAttribute(\"Yeux\",page.text)+\"\\n\")"
   ]
  },
  {
   "cell_type": "code",
   "execution_count": 4,
   "metadata": {},
   "outputs": [
    {
     "name": "stdout",
     "output_type": "stream",
     "text": [
      " Harry Potter Noirs Verts Homme Cerf Sang-Mêlé0\n",
      " Drago Malefoy Blonds Gris Homme ? Sang-Pur0\n",
      " Ronald Weasley Roux Bleus Homme Jack Russell terrier Sang-Pur0\n",
      " Albus Dumbledore Argentés Bleus Homme Phénix Sang-Mêlé1997\n",
      " Tom Elvis Jedusor Bruns puis chauve Marron puis rouges Homme Aucun, incapable d'avoir une pensée heureuse Sang-Mêlé1998\n",
      " Alastor Maugrey Gris Un œil petit et sombre et un autre grand, rond, d'un bleu électrique Homme ? Sorcier1997\n",
      " Minerva McGonagall Noirs Verts Femme Chat Sang-Mêlé0\n"
     ]
    }
   ],
   "source": [
    "def getAttribute(attribute, target):\n",
    "    matchingString = f'\\|{attribute}=\\[*([\\w\\ ,\\']*)\\W.*?\\s\\|'\n",
    "    result=\"?\"\n",
    "    if attribute == \"Mort\" or attribute == \"Naissance\":\n",
    "        try:\n",
    "            result = re.search('\\|{}=.*?(\\d{4}).*?\\s\\|',target).group(1)\n",
    "        except:\n",
    "            return \"0\"\n",
    "    else:\n",
    "        if attribute == \"Sang\":\n",
    "            matchingString = \"\\|Sang=\\[\\[([^]]+)\\]\\]\"\n",
    "        try:\n",
    "            result = re.search(matchingString, target).group(1)\n",
    "            if result == \"\":\n",
    "                result=\"?\"\n",
    "        except:\n",
    "            return \"?\"\n",
    "    result = result.replace(\"'\",\"('')\"\n",
    "    return result\n",
    "\n",
    "def getNom(target):\n",
    "    try:\n",
    "        result = re.search('\\|Nom=(.*?)\\s\\|', target).group(1)\n",
    "    except:\n",
    "        return \"\"\n",
    "    return result\n",
    "\n",
    "def getYeux(target):\n",
    "    try:\n",
    "        result = re.search('\\|Yeux=([\\w\\ 0-9,\\']*).*?\\s\\|', target).group(1)\n",
    "    except:\n",
    "        return \"\"\n",
    "    return result\n",
    "\n",
    "def getGenre(target):\n",
    "    try:\n",
    "        result = re.search('\\|Genre=\\ ?([A-Za-z0-9â]*?)\\s\\|', target).group(1)\n",
    "    except:\n",
    "        return \"\"\n",
    "    return result\n",
    "\n",
    "def getCheveux(target):\n",
    "    try:\n",
    "        result = re.search('\\|Cheveux=([A-Za-z0-9]*?)\\s\\|', target).group(1)\n",
    "        if result == \"\":\n",
    "            return \"Inconnu\"\n",
    "    except:\n",
    "        return \"Inconnu\"\n",
    "    return result\n",
    "\n",
    "\n",
    "def getNaissance(target):\n",
    "    try:\n",
    "        result = re.search('\\|Naissance=.*?(\\d{4}).*?\\s\\|',target).group(1)\n",
    "    except:\n",
    "        return \"0\"\n",
    "    return result\n",
    "\n",
    "def getMort(target):\n",
    "    try:\n",
    "        result = re.search('\\|Mort=.*?(\\d{4}).*?\\s\\|',target).group(1)\n",
    "    except:\n",
    "        return \"0\"\n",
    "    return result\n",
    "\n",
    "\n",
    "# with open('personnagesnaissance.txt','x') as f:\n",
    "#     for page in pages:\n",
    "#         if \"[[Catégorie:Personnage]]\" in page.text and (\"Catégorie:\" not in page.title.text):\n",
    "#             f.write(getAttribute(\"Nom\",page.text) +\" \"+ getAttribute(\"Naissance\",page.text)+\"\\n\")\n",
    "for page in pages[0:100]:\n",
    "    if \"[[Catégorie:Personnage]]\" in page.text and (\"Catégorie:\" not in page.title.text):\n",
    "        id = \"\"\n",
    "        for attr in [\"Nom\",\"Cheveux\",\"Yeux\",\"Genre\",\"Patronus\",\"Sang\"]:\n",
    "            id += f\" {getAttribute(attr,page.text)}\"\n",
    "        id += str(getMort(page.text))\n",
    "        print(id)"
   ]
  },
  {
   "cell_type": "markdown",
   "metadata": {},
   "source": [
    "## Creating the database\n"
   ]
  },
  {
   "cell_type": "code",
   "execution_count": 13,
   "metadata": {},
   "outputs": [],
   "source": [
    "connection = sqlite3.connect(\"harrypotter.db\")\n",
    "cursor = connection.cursor()"
   ]
  },
  {
   "cell_type": "code",
   "execution_count": 14,
   "metadata": {},
   "outputs": [
    {
     "data": {
      "text/plain": [
       "<sqlite3.Cursor at 0x7f1636674dc0>"
      ]
     },
     "execution_count": 14,
     "metadata": {},
     "output_type": "execute_result"
    }
   ],
   "source": [
    "cursor.execute(\"CREATE TABLE personnages (nom TEXT NOT NULL PRIMARY KEY, genre TEXT, yeux TEXT, cheveux TEXT, naissance INTEGER, mort INTEGER, patronus TEXT, sang TEXT)\")"
   ]
  },
  {
   "cell_type": "code",
   "execution_count": 15,
   "metadata": {},
   "outputs": [
    {
     "name": "stdout",
     "output_type": "stream",
     "text": [
      "Insert INTO personnages VALUES('Harry Potter','Homme','Verts','Noirs','0','0','Cerf','Sang-Mêlé')\n",
      "Insert INTO personnages VALUES('Drago Malefoy','Homme','Gris','Blonds','0','0','?','Sang-Pur')\n",
      "Insert INTO personnages VALUES('Ronald Weasley','Homme','Bleus','Roux','0','0','Jack Russell terrier','Sang-Pur')\n",
      "Insert INTO personnages VALUES('Albus Dumbledore','Homme','Bleus','Argentés','0','0','Phénix','Sang-Mêlé')\n",
      "Insert INTO personnages VALUES('Tom Elvis Jedusor','Homme','Marron puis rouges','Bruns puis chauve','0','0','Aucun, incapable d'avoir une pensée heureuse','Sang-Mêlé')\n"
     ]
    },
    {
     "ename": "OperationalError",
     "evalue": "near \"avoir\": syntax error",
     "output_type": "error",
     "traceback": [
      "\u001b[0;31m---------------------------------------------------------------------------\u001b[0m",
      "\u001b[0;31mOperationalError\u001b[0m                          Traceback (most recent call last)",
      "Cell \u001b[0;32mIn[15], line 12\u001b[0m\n\u001b[1;32m     10\u001b[0m sang \u001b[38;5;241m=\u001b[39m getAttribute(\u001b[38;5;124m\"\u001b[39m\u001b[38;5;124mSang\u001b[39m\u001b[38;5;124m\"\u001b[39m,page\u001b[38;5;241m.\u001b[39mtext)\n\u001b[1;32m     11\u001b[0m \u001b[38;5;28mprint\u001b[39m(\u001b[38;5;124mf\u001b[39m\u001b[38;5;124m\"\u001b[39m\u001b[38;5;124mInsert INTO personnages VALUES(\u001b[39m\u001b[38;5;124m'\u001b[39m\u001b[38;5;132;01m{\u001b[39;00mnom\u001b[38;5;132;01m}\u001b[39;00m\u001b[38;5;124m'\u001b[39m\u001b[38;5;124m,\u001b[39m\u001b[38;5;124m'\u001b[39m\u001b[38;5;132;01m{\u001b[39;00mgenre\u001b[38;5;132;01m}\u001b[39;00m\u001b[38;5;124m'\u001b[39m\u001b[38;5;124m,\u001b[39m\u001b[38;5;124m'\u001b[39m\u001b[38;5;132;01m{\u001b[39;00myeux\u001b[38;5;132;01m}\u001b[39;00m\u001b[38;5;124m'\u001b[39m\u001b[38;5;124m,\u001b[39m\u001b[38;5;124m'\u001b[39m\u001b[38;5;132;01m{\u001b[39;00mcheveux\u001b[38;5;132;01m}\u001b[39;00m\u001b[38;5;124m'\u001b[39m\u001b[38;5;124m,\u001b[39m\u001b[38;5;124m'\u001b[39m\u001b[38;5;132;01m{\u001b[39;00mnaissance\u001b[38;5;132;01m}\u001b[39;00m\u001b[38;5;124m'\u001b[39m\u001b[38;5;124m,\u001b[39m\u001b[38;5;124m'\u001b[39m\u001b[38;5;132;01m{\u001b[39;00mmort\u001b[38;5;132;01m}\u001b[39;00m\u001b[38;5;124m'\u001b[39m\u001b[38;5;124m,\u001b[39m\u001b[38;5;124m'\u001b[39m\u001b[38;5;132;01m{\u001b[39;00mpatronus\u001b[38;5;132;01m}\u001b[39;00m\u001b[38;5;124m'\u001b[39m\u001b[38;5;124m,\u001b[39m\u001b[38;5;124m'\u001b[39m\u001b[38;5;132;01m{\u001b[39;00msang\u001b[38;5;132;01m}\u001b[39;00m\u001b[38;5;124m'\u001b[39m\u001b[38;5;124m)\u001b[39m\u001b[38;5;124m\"\u001b[39m)\n\u001b[0;32m---> 12\u001b[0m cursor\u001b[38;5;241m.\u001b[39mexecute(\u001b[38;5;124mf\u001b[39m\u001b[38;5;124m\"\u001b[39m\u001b[38;5;124mInsert INTO personnages VALUES(\u001b[39m\u001b[38;5;124m'\u001b[39m\u001b[38;5;132;01m{\u001b[39;00mnom\u001b[38;5;132;01m}\u001b[39;00m\u001b[38;5;124m'\u001b[39m\u001b[38;5;124m,\u001b[39m\u001b[38;5;124m'\u001b[39m\u001b[38;5;132;01m{\u001b[39;00mgenre\u001b[38;5;132;01m}\u001b[39;00m\u001b[38;5;124m'\u001b[39m\u001b[38;5;124m,\u001b[39m\u001b[38;5;124m'\u001b[39m\u001b[38;5;132;01m{\u001b[39;00myeux\u001b[38;5;132;01m}\u001b[39;00m\u001b[38;5;124m'\u001b[39m\u001b[38;5;124m,\u001b[39m\u001b[38;5;124m'\u001b[39m\u001b[38;5;132;01m{\u001b[39;00mcheveux\u001b[38;5;132;01m}\u001b[39;00m\u001b[38;5;124m'\u001b[39m\u001b[38;5;124m,\u001b[39m\u001b[38;5;124m'\u001b[39m\u001b[38;5;132;01m{\u001b[39;00mnaissance\u001b[38;5;132;01m}\u001b[39;00m\u001b[38;5;124m'\u001b[39m\u001b[38;5;124m,\u001b[39m\u001b[38;5;124m'\u001b[39m\u001b[38;5;132;01m{\u001b[39;00mmort\u001b[38;5;132;01m}\u001b[39;00m\u001b[38;5;124m'\u001b[39m\u001b[38;5;124m,\u001b[39m\u001b[38;5;124m'\u001b[39m\u001b[38;5;132;01m{\u001b[39;00mpatronus\u001b[38;5;132;01m}\u001b[39;00m\u001b[38;5;124m'\u001b[39m\u001b[38;5;124m,\u001b[39m\u001b[38;5;124m'\u001b[39m\u001b[38;5;132;01m{\u001b[39;00msang\u001b[38;5;132;01m}\u001b[39;00m\u001b[38;5;124m'\u001b[39m\u001b[38;5;124m)\u001b[39m\u001b[38;5;124m\"\u001b[39m)\n",
      "\u001b[0;31mOperationalError\u001b[0m: near \"avoir\": syntax error"
     ]
    }
   ],
   "source": [
    "for page in pages:\n",
    "    if \"[[Catégorie:Personnage]]\" in page.text and (\"Catégorie:\" not in page.title.text):\n",
    "        nom = getAttribute(\"Nom\",page.text)\n",
    "        yeux = getAttribute(\"Yeux\",page.text)\n",
    "        cheveux = getAttribute(\"Cheveux\",page.text)\n",
    "        genre = getAttribute(\"Genre\",page.text)\n",
    "        patronus = getAttribute(\"Patronus\",page.text)\n",
    "        naissance = getAttribute(\"Naissance\",page.text)\n",
    "        mort = getAttribute(\"Mort\",page.text)\n",
    "        sang = getAttribute(\"Sang\",page.text)\n",
    "        print(f\"Insert INTO personnages VALUES('{nom}','{genre}','{yeux}','{cheveux}','{naissance}','{mort}','{patronus}','{sang}')\")\n",
    "        cursor.execute(f\"Insert INTO personnages VALUES('{nom}','{genre}','{yeux}','{cheveux}','{naissance}','{mort}','{patronus}','{sang}')\")"
   ]
  },
  {
   "cell_type": "code",
   "execution_count": null,
   "metadata": {},
   "outputs": [],
   "source": []
  }
 ],
 "metadata": {
  "kernelspec": {
   "display_name": "Python 3 (ipykernel)",
   "language": "python",
   "name": "python3"
  },
  "language_info": {
   "codemirror_mode": {
    "name": "ipython",
    "version": 3
   },
   "file_extension": ".py",
   "mimetype": "text/x-python",
   "name": "python",
   "nbconvert_exporter": "python",
   "pygments_lexer": "ipython3",
   "version": "3.11.5"
  }
 },
 "nbformat": 4,
 "nbformat_minor": 2
}
