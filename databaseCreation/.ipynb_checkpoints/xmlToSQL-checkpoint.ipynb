{
 "cells": [
  {
   "cell_type": "code",
   "execution_count": null,
   "metadata": {},
   "outputs": [],
   "source": [
    "def preprocessing(target):\n",
    "    target = re.sub(r'\\n(?!\\|)', ', ', target)\n",
    "    return target.replace('*','').replace('[', '').replace(']', '')\n",
    "\n",
    "def getAttribute(attribute, target):\n",
    "    target = preprocessing(target)\n",
    "    matchingString = f'\\|{attribute}=([^\\n\\{{\\}}<>]*)[^\\n]*\\n\\|'\n",
    "    result=\"?\"\n",
    "    if attribute == \"Mort\" or attribute == \"Naissance\":\n",
    "        try:\n",
    "            result = re.search('\\|{}=.*?(\\d{4}).*?\\s\\|',target).group(1)\n",
    "        except:\n",
    "            return \"0\"\n",
    "    else:\n",
    "        #if attribute == \"Sang\":\n",
    "            #matchingString = \"\\|Sang=\\[\\[([^]]+)\\]\\]\"\n",
    "        #if attribute == \"Localisation\":\n",
    "            #matchingString = \"\\|Localisation=.*?\\[\\[([^]]+)\\]\\]\"\n",
    "        #if attribute == \"Statut\":\n",
    "            #matchingString = \"\\|Statut=([^\\{\\}\\n]*).*\\n\\|\"\n",
    "        try:\n",
    "            result = re.search(matchingString, target).group(1)\n",
    "            if result == \"\":\n",
    "                result=\"?\"\n",
    "        except:\n",
    "            return \"?\"\n",
    "    result = result.replace(\"'\",\"('')\")\n",
    "    return result\n",
    "\n",
    "def getNom(target):\n",
    "    try:\n",
    "        result = re.search('\\|Nom=(.*?)\\s\\|', target).group(1)\n",
    "    except:\n",
    "        return \"\"\n",
    "    return result\n",
    "\n",
    "def getYeux(target):\n",
    "    try:\n",
    "        result = re.search('\\|Yeux=([\\w\\ 0-9,\\']*).*?\\s\\|', target).group(1)\n",
    "    except:\n",
    "        return \"\"\n",
    "    return result\n",
    "\n",
    "def getGenre(target):\n",
    "    try:\n",
    "        result = re.search('\\|Genre=\\ ?([A-Za-z0-9â]*?)\\s\\|', target).group(1)\n",
    "    except:\n",
    "        return \"\"\n",
    "    return result\n",
    "\n",
    "def getCheveux(target):\n",
    "    try:\n",
    "        result = re.search('\\|Cheveux=([A-Za-z0-9]*?)\\s\\|', target).group(1)\n",
    "        if result == \"\":\n",
    "            return \"Inconnu\"\n",
    "    except:\n",
    "        return \"Inconnu\"\n",
    "    return result\n",
    "\n",
    "\n",
    "def getNaissance(target):\n",
    "    try:\n",
    "        result = re.search('\\|Naissance=.*?(\\d{4}).*?\\s\\|',target).group(1)\n",
    "    except:\n",
    "        return \"0\"\n",
    "    return result\n",
    "\n",
    "def getMort(target):\n",
    "    try:\n",
    "        result = re.search('\\|Mort=.*?(\\d{4}).*?\\s\\|',target).group(1)\n",
    "    except:\n",
    "        return \"0\"\n",
    "    return result\n",
    "\n",
    "\n",
    "# with open('personnagesnaissance.txt','x') as f:\n",
    "#     for page in pages:\n",
    "#         if \"[[Catégorie:Personnage]]\" in page.text and (\"Catégorie:\" not in page.title.text):\n",
    "#             f.write(getAttribute(\"Nom\",page.text) +\" \"+ getAttribute(\"Naissance\",page.text)+\"\\n\")\n",
    "for page in pages[0:100]:\n",
    "    if \"[[Catégorie:Personnage]]\" in page.text and (\"Catégorie:\" not in page.title.text):\n",
    "        id = \"\"\n",
    "        for attr in [\"Nom\",\"Cheveux\",\"Yeux\",\"Genre\",\"Patronus\",\"Sang\"]:\n",
    "            id += f\" {getAttribute(attr,page)}\"\n",
    "        id += str(getMort(page.text))\n",
    "        print(id)\n",
    "for page in pages[100:2000]:\n",
    "    if \"[[Catégorie:Créatures\" in page.text and (\"Catégorie:\" not in page.title.text and \"Portail:\" not in page.title.text):\n",
    "        nom = getAttribute(\"Nom\",page)\n",
    "        yeux = getAttribute(\"Yeux\",page)\n",
    "        statut = getAttribute(\"Statut\",page)\n",
    "        apparence = getAttribute(\"Apparence\",page)\n",
    "        caractère = getAttribute(\"Caractère\",page)\n",
    "        localisation = getAttribute(\"Localisation\",page)\n",
    "        print(f\"Insert INTO créatures VALUES('{nom}','{statut}','{yeux}','{apparence}','{caractère}','{localisation}')\")"
   ]
  },
  {
   "cell_type": "code",
   "execution_count": null,
   "metadata": {},
   "outputs": [],
   "source": [
    "with open('personnages.txt','x') as f:\n",
    "    for page in pages:\n",
    "        if \"[[Catégorie:Personnage]]\" in page.text and (\"Catégorie:\" not in page.title.text):\n",
    "            f.write(xmlToSql.getAttribute(\"Nom\",page) +\" \"+ xmlToSql.getAttribute(\"Yeux\",page)+\"\\n\")"
   ]
  },
  {
   "cell_type": "code",
   "execution_count": 1,
   "metadata": {},
   "outputs": [],
   "source": [
    "from bs4 import BeautifulSoup\n",
    "import re\n",
    "from xmlToSql import getAttribute\n",
    "import sqlite3"
   ]
  },
  {
   "cell_type": "markdown",
   "metadata": {},
   "source": [
    "Reading and parsing the dump with BeautifulSoup"
   ]
  },
  {
   "cell_type": "code",
   "execution_count": 2,
   "metadata": {},
   "outputs": [],
   "source": [
    "with open('frharrypotter_pages_current.xml','r') as f:\n",
    "    file = f.read()\n",
    "\n",
    "soup = BeautifulSoup(file, 'xml')"
   ]
  },
  {
   "cell_type": "code",
   "execution_count": 3,
   "metadata": {},
   "outputs": [],
   "source": [
    "pages = soup.find_all('page')"
   ]
  },
  {
   "cell_type": "markdown",
   "metadata": {},
   "source": [
    "## Creating the databases\n",
    "\n",
    "Start by creating an empty database."
   ]
  },
  {
   "cell_type": "code",
   "execution_count": 4,
   "metadata": {},
   "outputs": [],
   "source": [
    "connection = sqlite3.connect(\"harrypotter_fr.db\")\n",
    "cursor = connection.cursor()"
   ]
  },
  {
   "cell_type": "markdown",
   "metadata": {},
   "source": [
    "### First the character table\n",
    "\n",
    "Create the table for characters named \"personnages\".\n",
    "\n",
    "Fill in the records thanks to the dump of the french Harry Potter Fandom and parsing functions in the xmlToSql.py file."
   ]
  },
  {
   "cell_type": "code",
   "execution_count": 5,
   "metadata": {},
   "outputs": [
    {
     "name": "stdout",
     "output_type": "stream",
     "text": [
      "Already inserted Lily Potter\n",
      "Already inserted Fred Weasley\n",
      "Already inserted Molly Weasley\n",
      "Already inserted Avery\n",
      "Already inserted Mulciber\n",
      "Already inserted Élève garçon de Beauxbâtons non identifié\n",
      "Already inserted Élève garçon de Beauxbâtons non identifié\n",
      "Already inserted Élèves filles de Beauxbâtons non identifiées\n",
      "Already inserted Stebbins\n",
      "Already inserted ?\n",
      "Already inserted Emily\n",
      "Already inserted Derek\n",
      "Already inserted ?\n",
      "Already inserted M. Carneirus\n",
      "Already inserted Stebbins\n",
      "Already inserted Julia Dehoff\n",
      "Already inserted M. Carneiro\n",
      "Already inserted Emma Vane\n",
      "Already inserted Luca Caruso\n",
      "Already inserted Albert\n",
      "Already inserted Andrew Snowy Owl\n",
      "Already inserted Winky Crockett\n",
      "Already inserted Jo King\n",
      "Already inserted Emma Vanity\n",
      "Already inserted L. Wakefield\n",
      "Already inserted William de Cognac\n",
      "Already inserted Eduardo Lima\n",
      "Already inserted Eduardus Limus\n",
      "Already inserted Miraforum\n",
      "Already inserted Loretta Fieldwake\n",
      "Already inserted M. Mina\n",
      "Already inserted R. Amorim\n"
     ]
    }
   ],
   "source": [
    "cursor.execute(\"CREATE TABLE personnages (nom TEXT NOT NULL PRIMARY KEY, genre TEXT, yeux TEXT, cheveux TEXT, naissance INTEGER, mort INTEGER, patronus TEXT, sang TEXT)\")\n",
    "for page in pages:\n",
    "    if \"[[Catégorie:Personnage]]\" in page.text and (\"Catégorie:\" not in page.title.text):\n",
    "        nom = getAttribute(\"Nom\",page)\n",
    "        yeux = getAttribute(\"Yeux\",page)\n",
    "        cheveux = getAttribute(\"Cheveux\",page)\n",
    "        genre = getAttribute(\"Genre\",page)\n",
    "        patronus = getAttribute(\"Patronus\",page)\n",
    "        naissance = getAttribute(\"Naissance\",page)\n",
    "        mort = getAttribute(\"Mort\",page)\n",
    "        sang = getAttribute(\"Sang\",page)\n",
    "        # print(f\"Insert INTO personnages VALUES('{nom}','{genre}','{yeux}','{cheveux}','{naissance}','{mort}','{patronus}','{sang}')\")\n",
    "        try:\n",
    "            cursor.execute(f\"Insert INTO personnages VALUES('{nom}','{genre}','{yeux}','{cheveux}','{naissance}','{mort}','{patronus}','{sang}')\")\n",
    "        except:\n",
    "            print(f\"Already inserted {nom}\")"
   ]
  },
  {
   "cell_type": "markdown",
   "metadata": {},
   "source": [
    "### Then table for creatures"
   ]
  },
  {
   "cell_type": "code",
   "execution_count": 6,
   "metadata": {},
   "outputs": [
    {
     "data": {
      "text/plain": [
       "<sqlite3.Cursor at 0x7fdf2faf6040>"
      ]
     },
     "execution_count": 6,
     "metadata": {},
     "output_type": "execute_result"
    }
   ],
   "source": [
    "cursor.execute(\"CREATE TABLE creatures (nom_creature TEXT NOT NULL PRIMARY KEY, statut_creature TEXT, yeux_creature TEXT, poils_creature text, apparence TEXT, caractere_creature TEXT, localisation_creature TEXT)\")"
   ]
  },
  {
   "cell_type": "code",
   "execution_count": 7,
   "metadata": {},
   "outputs": [
    {
     "name": "stdout",
     "output_type": "stream",
     "text": [
      "Insert INTO créatures VALUES('Basilic','Animal','Yeux jaunes','Serpent géant','Dangereux','?')\n",
      "Insert INTO créatures VALUES('Centaure','Animal (à sa demande)','?','Buste humain, Corps de cheval','Méfiant envers les humains, sorciers ou Moldus, Vit en troupeau de dix à cinquante individus','Europe, Territoires forestiers réservés, Forêt interdite à Poudlard')\n",
      "Insert INTO créatures VALUES('Phénix','Animal','?','Oiseau rouge vif, de la taille d('')un cygne, Longue queue dorée, Bec et serres dorés','Paisible','Égypte, Inde, Chine, Sommets montagneux')\n",
      "Insert INTO créatures VALUES('Dragon','Animal','Variable','Reptile ailé','De paisible à agressif suivant les espèces','Monde entier, Montagnes généralement, Réserves')\n",
      "Insert INTO créatures VALUES('Loup-garou','Instable, varie entre être et animal','?','Loup','?','Monde entier')\n",
      "Insert INTO créatures VALUES('Hippogriffe','Animal','Orange','Tête, pattes avant et ailes d('')aigle géant, Corps, pattes arrière et queue de cheval, Longs becs couleur gris acier, Serres d('')une quinzaine de centimètres','Très susceptible, Très attaché à la politesse','Monde entier')\n",
      "Insert INTO créatures VALUES('Sinistros','?','?','Grand chien','?','?')\n",
      "Insert INTO créatures VALUES('Acromentule','Animal','Huit yeux','Monstrueuse araignée','Très intelligent mais ne peut dominer sa nature bestiale','Bornéo, Forêt interdite à Poudlard')\n",
      "Insert INTO créatures VALUES('Botruc','Animal','Marrons','Écorce et brindilles','Paisible, Agressif si son arbre est en danger','Ouest de l('')Angleterre, Sud de l('')Allemagne, Forêts Scandinavie|scandinaves, Forêt interdite')\n",
      "Insert INTO créatures VALUES('Licorne','Animal','?','Cheval, Corne de licorne|Corne à l('')âge adulte','Évite le contact avec les humains','Forêts d('')Europe du Nord, Forêt interdite')\n",
      "Insert INTO créatures VALUES('Strangulot','Animal','Blancs','Humanoïde','Agressif','Lacs de Grande-Bretagne et d('')Irlande')\n",
      "Insert INTO créatures VALUES('Lutin','Animal','?','Tête pointue','Farceur','Principalement Cornouailles (Angleterre)')\n",
      "Insert INTO créatures VALUES('Troll','Animal','?','Humanoïde','Stupide, Violent, Imprévisible','Certaines régions d('')Europe, Grande-Bretagne, Irlande, Cotswolds')\n",
      "Insert INTO créatures VALUES('Veracrasse','Animal','?','Ver épais','?','Fossés humides')\n",
      "Insert INTO créatures VALUES('Niffleur','Animal','?','Museau allongé, Pattes avant plates comme des pelles','Doux et même affectueux, Destructeur et voleur ','Grande-Bretagne')\n",
      "Insert INTO créatures VALUES('Chaporouge','Animal','?','Semblable à un nain ou à un gobelin','?','Principalement Europe du Nord')\n",
      "Insert INTO créatures VALUES('Doxy','Animal','?','Être humain minuscule, Deux bras et deux jambes supplémentaires, Ailes épaisses, courbes et brillantes comme un scarabée, Deux rangées de dents pointues','Hargneux','Dans les climats froids, Europe du Nord, Amérique du Nord')\n",
      "Insert INTO créatures VALUES('Fléreur','Animal','?','Ressemble à un petit chat, Oreilles gigantesques, Queue semblable à celle d('')un lion','Intelligent, Indépendant, Agressif à l('')occasion','Monde entier')\n",
      "Insert INTO créatures VALUES('Crabe de Feu','Animal','?','Grande tortue, Carapace incrustée de pierres précieuses','?','Longue zone côtière des Fidji transformée en réserve pour le protéger de la convoitise des Moldus et de sorciers peu scrupuleux')\n",
      "Insert INTO créatures VALUES('Goule','Animal','?','Ogre crasseux aux dents proéminentes','?','Habitations des sorciers, Grenier, Grange, Le Terrier, 12, square Grimmaurd')\n",
      "Insert INTO créatures VALUES('Gnome','Animal','?','Tête d('')une taille disproportionnée ressemblant à une pomme de terre, Pieds durs, osseux et velus, Dents tranchantes','Colérique','Dans les jardins où ils creusent des terriers, Europe du Nord, Amérique du Nord, Le Terrier')\n",
      "Insert INTO créatures VALUES('Chartier','Animal','?','Furet de grande taille','?','Grande-Bretagne, Irlande, Amérique du Nord')\n",
      "Insert INTO créatures VALUES('Boursouf','Animal','?','Boule de poils, Langue rose très fine et d('')une exceptionnelle longueur','Docile, ne voit aucun inconvénient à se faire câliner ou jeter comme un ballon','?')\n",
      "Insert INTO créatures VALUES('Boursouflet','Animal','?','Petite boule de poils','?','?')\n",
      "Insert INTO créatures VALUES('Chimère','Animal très rare','?','Tête de lion, Corps de chèvre, Queue de dragon','Cruel et assoiffé de sang, Très dangereux','Grèce')\n",
      "Insert INTO créatures VALUES('Ronflak Cornu','Créature imaginaire','?','Corne','?','?')\n",
      "Insert INTO créatures VALUES('Boutefeu chinois','Animal','Yeux protubérants','Museau écrasé entouré de pointes d('')or','Agressif, Tolérant envers son espèce','Chine (d('')après son nom)')\n",
      "Insert INTO créatures VALUES('Magyar à pointes','Animal','Yeux jaunes, pupilles verticales comme ceux d('')un chat','Ressemble à un gros lézard, Cornes de couleur bronze, Épines de couleur bronze qui hérissent sa longue queue, Hurlements aigus','Le plus dangereux de tous les dragons','Hongrie (d('')après son nom)')\n",
      "Insert INTO créatures VALUES('Norvégien à crête','Animal','?','Ressemble au Magyar à Pointes avec des plaques à la place des pointes, Grosses plaques d('')un noir de jais tout au long de l('')échine','Exceptionnellement agressif envers ses congénères','Norvège (d('')après son nom)')\n",
      "Insert INTO créatures VALUES('Suédois à museau court','Animal','?','?','?','Suède')\n",
      "Insert INTO créatures VALUES('Vert gallois commun','Animal','?','?','Paisible à moins d('')être provoqué','Pays de Galles (d('')après son nom)')\n",
      "Insert INTO créatures VALUES('Noir des Hébrides','Animal','Yeux violets étincelants','Rangée de pointes courtes mais coupantes comme des rasoirs le long de l('')échine, Queue qui se termine par une flèche, Ailes de chauve-souris','Agressif, Territorial','Hébrides (d('')après son nom)')\n",
      "Insert INTO créatures VALUES('Opalœil des Antipodes','Animal','Yeux sans pupilles étincelant de reflets multicolores, Regard opalin (d('')où son nom)','?','Guère agressif, ne tue en général que pour se nourrir','Nouvelle-Zélande, Australie')\n",
      "Insert INTO créatures VALUES('Cornelongue roumain','Animal','?','Corne de dragon|Cornes d('')or','?','Roumanie (d('')après son nom)')\n",
      "Insert INTO créatures VALUES('Dent-de-vipère du Pérou','Animal','?','Marques noires le long de l('')échine, Cornes courtes, Crochets','?','Pérou (d('')après son nom)')\n",
      "Insert INTO créatures VALUES('Pansedefer ukrainien','Animal','Yeux rouge foncé','Griffes longues et meurtrières','Extrêmement dangereux','Ukraine (d('')après son nom)')\n",
      "Insert INTO créatures VALUES('Sphinx','Animal','Yeux en amande','Tête humaine, Corps de lion, Grandes pattes dotées de griffes, Longue queue jaunâtre','Très intelligent, N('')est dangereux que lorsqu('')il est menacé ou lorsqu('')on lui donne une mauvaise réponse','Égypte')\n",
      "Insert INTO créatures VALUES('Êtres de l('')eau','Animal','?','Corps d('')humain sur la partie supérieure, Queue de poisson sur la partie inférieure','?','Monde entier')\n",
      "Insert INTO créatures VALUES('Hippocampe','Animal','?','Tête et torse de cheval, Queue de poisson géant','?','Mer Méditerranée')\n",
      "Insert INTO créatures VALUES('Lobalug','Animal','?','Créature rudimentaire, Bec caoutchouteux, Sac à venin','?','Mer du Nord')\n",
      "Insert INTO créatures VALUES('Vivet doré','Animal protégé','Yeux rouges semblables à des pierres précieuses','Oiseau, Forme sphérique, Long bec fin et luisant','?','Monde entier : sanctuaires, Somerset (Angleterre) Réserve de vivets dorés Modesty Rabnott')\n",
      "Insert INTO créatures VALUES('Kelpy','Animal','?','Nombreuses formes, Souvent cheval à la crinière constituée de joncs','?','Grande-Bretagne, Irlande')\n",
      "Insert INTO créatures VALUES('Yéti','Animal','?','?','?','?')\n",
      "Insert INTO créatures VALUES('Troll des montagnes','Animal','?','?','?','Montagnes')\n",
      "Insert INTO créatures VALUES('Troll des forêts','Animal','?','?','?','Forêts')\n",
      "Insert INTO créatures VALUES('Troll de rivière','Animal','?','Petites cornes','?','?')\n",
      "Insert INTO créatures VALUES('Moke','Animal','?','Lézard vert argenté','?','Grande-Bretagne, Irlande')\n",
      "Insert INTO créatures VALUES('Demiguise','Animal','Yeux noirs mélancoliques','Singe gracieux','Paisible','?')\n",
      "Insert INTO créatures VALUES('Éruptif','Animal','?','Peut être confondu de loin avec un rhinocéros, Corne pointue sur le museau, Longue queue semblable à une corde','N('')attaque jamais mais sa riposte peut être catastrophique','Afrique')\n",
      "Insert INTO créatures VALUES('Boullu','Animal','?','Poisson sphérique et tacheté, Deux longues pattes, Pieds palmés','Non dangereux, Nuisible','Lacs profonds')\n",
      "Insert INTO créatures VALUES('Billywig','Animal','?','Insecte, Couleur bleu saphir étincelante, Ailes attachées au sommet de sa tête, Dard de Billywig|Dard très fin','?','?')\n",
      "Insert INTO créatures VALUES('Manticore','Animal très rare','?','Tête humaine, Corps de lion, Queue de scorpion','Très intelligent mais ne peut dominer sa nature bestiale','?')\n",
      "Insert INTO créatures VALUES('Farfadet','Animal','?','?','Farceur, Aime attirer l('')attention des Moldus','Irlande, bois et forêts')\n",
      "Insert INTO créatures VALUES('Kappa','Animal','?','Singe, Couvert d('')écailles, Mains palmées, Trou dans la tête dans lequel il transporte de l('')eau','?','Japon')\n",
      "Insert INTO créatures VALUES('Croup','Animal','?','Chien terrier, Queue fourchue','?','?')\n",
      "Insert INTO créatures VALUES('Porlock','Animal','?','Gros nez, Jambes : deux pattes dotées de sabots, Bras : courts se terminant par quatre doigts boudinés','Timide','Dorset (Angleterre), Irlande du Sud')\n",
      "Insert INTO créatures VALUES('Noueux','Animal','?','Hérisson','Méfiant, Peut devenir fou de rage quand il se sent en danger','Europe du Nord, Amérique')\n",
      "Insert INTO créatures VALUES('Salamandre','Animal','?','Lézard','?','?')\n",
      "Insert INTO créatures VALUES('Serpencendre (Ashwinder)','Animal','Rouges flamboyants','Serpent mince','?','Monde entier')\n",
      "Insert INTO créatures VALUES('Bandimon','Animal','Une paire','Amas de moisissures verdâtres, Nombreuses petites pattes grêles','?','Monde entier')\n",
      "Insert INTO créatures VALUES('Ciseburine','Animal','?','Crabe, Grandes dents pointues','?','?')\n",
      "Insert INTO créatures VALUES('Diablotin','Animal','?','?','Farceur','Grande-Bretagne, Irlande')\n",
      "Insert INTO créatures VALUES('Dirico','Animal','?','Oiseau incapable de voler, Corps replet','?','?')\n",
      "Insert INTO créatures VALUES('Clabbert','Animal','?','Mains et pieds palmés, Membres longs et souples, Cornes courtes, Large gueule qui semble toujours sourire, Dents coupantes comme des rasoirs, Pustule au milieu du front','?','Monde entier')\n",
      "Insert INTO créatures VALUES('Erkling','Animal','?','Visage pointu','Tueur','?')\n",
      "Insert INTO créatures VALUES('Fée','Animal','?','Tête, membres et corps humanoïdes, Grandes ailes semblables à celles des insectes, transparentes ou multicolores','Querelleur, Extrêmement vaniteux','?')\n",
      "Insert INTO créatures VALUES('Augurey','Animal','?','Oiseau maigre et lugubre, Semblable à un petit vautour sous-alimenté','Timide','Certains pays d('')Europe du Nord')\n",
      "Insert INTO créatures VALUES('Focifère','Animal','?','Oiseau','?','Afrique')\n",
      "Insert INTO créatures VALUES('Grinchebourdon','Animal','?','Insecte volant de couleur grise, Corps velu','?','Europe du Nord')\n",
      "Insert INTO créatures VALUES('Grapcorne','Animal','?','Grand, Bosse sur le dos, Deux très longues Corne de Grapcorne|cornes pointues, Grands pieds à quatre doigts','Extrêmement agressif','Régions montagneuses d('')Europe, Alpes Autriche|autrichiennes')\n",
      "Insert INTO créatures VALUES('Jobarbille','Animal','?','Oiseau','?','Europe, Amérique du Nord')\n",
      "Insert INTO créatures VALUES('Malagrif tacheté','Animal','?','Homard','?','Côtes rocheuses d('')Europe')\n",
      "Insert INTO créatures VALUES('Veaudelune','Animal','Gros yeux protubérants au sommet de sa tête','Quatre pattes grêles, Énormes pieds plats','?','Monde entier')\n",
      "Insert INTO créatures VALUES('Nundu','Animal','?','Léopard géant','Extrêmement dangereux','?')\n",
      "Insert INTO créatures VALUES('Occamy','Animal','?','Corps serpentin, Ailes, Deux pattes','Agressif','Asie|Extrême-Orient, Inde')\n",
      "Insert INTO créatures VALUES('Tébo','Animal','?','Phacochère','?','Congo, Zaïre')\n",
      "Insert INTO créatures VALUES('Horglup','Animal','?','Champignon rose et charnu, Tentacules musculeux','?','Europe du Nord')\n",
      "Insert INTO créatures VALUES('Musard','Animal','?','Escargot géant','?','Afrique, Europe, Asie, Amérique')\n",
      "Insert INTO créatures VALUES('Sharak','Animal','?','Poisson couvert d('')épines','?','Océan Atlantique')\n",
      "Insert INTO créatures VALUES('Rémora','Animal','?','?','?','Océan Indien')\n",
      "Insert INTO créatures VALUES('Re('')em','Animal','?','Bœuf géant','?','Contrées sauvages, Amérique du Nord, Asie|Extrême-Orient')\n",
      "Insert INTO créatures VALUES('Serpent de mer','Animal','?','Tête de cheval, Corps de serpent','?','Océan Atlantique, Océan Pacifique, Mer Méditerranée')\n",
      "Insert INTO créatures VALUES('Runespoor','Animal','?','Serpent à trois têtes','?','Forêts du Burkina Faso')\n",
      "Insert INTO créatures VALUES('Povrebine','Animal','?','Corps velu, Grosse tête grise dépourvue de poils, Petit caillou rond et brillant (assis)','?','Russie')\n",
      "Insert INTO créatures VALUES('Griffon','Animal','?','Tête et pattes antérieures d('')un aigle géant, Corps et pattes arrière d('')un lion','Féroce','?')\n",
      "Insert INTO créatures VALUES('Murlap','Animal','?','Rat, Tentacules de Murlap|Excroissance sur le dos qui ressemble à une anémone de mer','?','Régions côtières de Grande-Bretagne')\n",
      "Insert INTO créatures VALUES('Quintaped','Animal','?','Corps bas, Cinq pattes qui se terminent chacune en pied bot','?','Écosse, Île de Drear')\n",
      "Insert INTO créatures VALUES('Fangieux','Animal','?','Morceau de bois mort, Pattes munies de nageoires, Dents très pointues','?','Europe, Amérique du Nord, Amérique du Sud')\n",
      "Insert INTO créatures VALUES('Licheur','Animal','Petits yeux noirs','Petit cochon chétif, Longues pattes, Queue courte et épaisse','?','Europe dont Russie, Amérique')\n",
      "Insert INTO créatures VALUES('Moremplis','Animal','?','Cape noire, Un centimètre d('')épaisseur','?','Climats tropicaux, Papouasie-Nouvelle-Guinée')\n",
      "Insert INTO créatures VALUES('Énormus à Babille','Créature imaginaire','?','?','?','?')\n",
      "Insert INTO créatures VALUES('Héliopathe','Créature imaginaire','?','Créature enflammée','?','?')\n",
      "Insert INTO créatures VALUES('Joncheruine','Créature imaginaire','?','Invisible','?','?')\n",
      "Insert INTO créatures VALUES('Aquavirius','Créature imaginaire','?','?','?','?')\n",
      "Insert INTO créatures VALUES('Nargole','Créature imaginaire','?','?','?','?')\n",
      "Insert INTO créatures VALUES('Tranchesac Ongubulaire','Créature imaginaire','?','?','?','?')\n",
      "Insert INTO créatures VALUES('Portugais à museau long','Animal','Noirs','?','?','Portugal')\n",
      "Insert INTO créatures VALUES('Exploding snabberwitch','Créature imaginaire','?','?','?','?')\n",
      "Insert INTO créatures VALUES('Dabberblimp','Créature imaginaire','?','?','?','?')\n",
      "Insert INTO créatures VALUES('Grenouille lunaire','Créature imaginaire','?','Grenouille ','?','Lune')\n",
      "Insert INTO créatures VALUES('Sirène','Animal','?','Corps d('')humain sur la partie supérieure, Queue de poisson sur la partie inférieure','?','Eaux chaudes, Loch Lomond')\n",
      "Insert INTO créatures VALUES('Merrow','Animal','?','Corps d('')humain sur la partie supérieure, Queue de poisson sur la partie inférieure','?','Irlande')\n",
      "Insert INTO créatures VALUES('Selkie','Animal','Jaunes','Corps d('')humain sur la partie supérieure, Queue de poisson sur la partie inférieure','?','Écosse')\n",
      "Insert INTO créatures VALUES('Salamandre de glace','Animal ','?','Petit lézard','?','Poudlard')\n",
      "Insert INTO créatures VALUES('Salamandre d('')Amazonie','Animal ','Bleus et jaunes','Petit lézard','?','Amazonie, Poudlard')\n",
      "Insert INTO créatures VALUES('Salamandre du Pérou','Animal ','Bleus et blancs','Petit lézard','?','Pérou, Poudlard')\n"
     ]
    },
    {
     "name": "stdout",
     "output_type": "stream",
     "text": [
      "Insert INTO créatures VALUES('Escargot flamigène','Créature','Rouges','Gastéropode','?','?')\n",
      "Insert INTO créatures VALUES('Escargot-fléau','Créature','Bleus','Gastéropode','?','?')\n",
      "Insert INTO créatures VALUES('Nessiopalus','Créature imaginaire','?','?','?','Écosse')\n",
      "Insert INTO créatures VALUES('Oiseau-Tonnerre','Animal','Dorés','Oiseau','?','Amérique du Nord')\n",
      "Insert INTO créatures VALUES('Womatou','Animal','Jaunes','Félin','?','?')\n",
      "Insert INTO créatures VALUES('Hodag','Animal','Rouges','Tête de grenouille','?','Amérique du Nord ')\n",
      "Insert INTO créatures VALUES('Snallygaster','Animal','Jaunes','Mi-oiseau, mi-reptile','Curieux','?')\n",
      "Insert INTO créatures VALUES('Dissimuleur','Animal','Verts','Paresseux humanoïde','?','Amérique du Nord')\n",
      "Insert INTO créatures VALUES('Serpent cornu','Animal','Bleus','Serpent à cornes','?','Extrême-Orient')\n"
     ]
    }
   ],
   "source": [
    "for page in pages:\n",
    "    if \"[[Catégorie:Créature\" in page.text and (\"Catégorie:\" not in page.title.text and \"Portail:\" not in page.title.text):\n",
    "        nom = getAttribute(\"Nom\",page)\n",
    "        yeux = getAttribute(\"Yeux\",page)\n",
    "        poils = getAttribute(\"Plumes/Poils\",page)\n",
    "        statut = getAttribute(\"Statut\",page)\n",
    "        apparence = getAttribute(\"Apparence\",page)\n",
    "        caractère = getAttribute(\"Caractère\",page)\n",
    "        localisation = getAttribute(\"Localisation\",page)\n",
    "        #print(f\"Insert INTO créatures VALUES('{nom}','{statut}','{yeux}','{apparence}','{caractère}','{localisation}')\")\n",
    "        try:\n",
    "            cursor.execute(f\"Insert INTO créatures VALUES('{nom}','{statut}','{yeux}','{poils}','{apparence}','{caractère}','{localisation}')\")\n",
    "        except:\n",
    "            print(f\"Already inserted {nom}\")"
   ]
  },
  {
   "cell_type": "markdown",
   "metadata": {},
   "source": [
    "## Finally Junction Table between family members"
   ]
  },
  {
   "cell_type": "code",
   "execution_count": 8,
   "metadata": {
    "scrolled": true
   },
   "outputs": [
    {
     "data": {
      "text/plain": [
       "<sqlite3.Cursor at 0x7fdf2faf6040>"
      ]
     },
     "execution_count": 8,
     "metadata": {},
     "output_type": "execute_result"
    }
   ],
   "source": [
    "cursor.execute(\"CREATE TABLE famille (premier TEXT NOT NULL, second TEXT NOT NULL, relation TEXT, FOREIGN KEY (premier) REFERENCES personnages(nom), FOREIGN KEY (second) REFERENCES personnages(nom))\")"
   ]
  },
  {
   "cell_type": "code",
   "execution_count": 9,
   "metadata": {},
   "outputs": [],
   "source": [
    "def insertRelative(first,second,relation):\n",
    "    first = first.replace(\"'\",\"('')\")\n",
    "    second = second.replace(\"'\",\"('')\")\n",
    "    relation = relation.replace(\"'\",\"('')\")\n",
    "    try:\n",
    "        cursor.execute(f\"Insert INTO famille VALUES('{first}','{second}','{relation}')\")\n",
    "    except:\n",
    "        print(f\"Inserting {first} {second} {relation} didn't work\")\n",
    "    return\n",
    "\n",
    "pattern = re.compile(r'Famille\\s*=\\s*(.*?)\\s\\|', re.S)\n",
    "for page in pages:\n",
    "    if \"[[Catégorie:Personnage]]\" in page.text and (\"Catégorie:\" not in page.title.text and \"Utilisateur:\" not in page.title.text):\n",
    "        nom = getAttribute(\"Nom\",page.text)\n",
    "        if re.search('Famille\\s*=\\s*\\n\\|',page.text): #Related to no-one\n",
    "            continue\n",
    "        singleRelative = re.search('Famille\\s*=\\s*\\[\\[(.*?)\\]\\]',page.text)\n",
    "        if singleRelative:#Related to one person\n",
    "            onlyRelative = singleRelative.group(1)\n",
    "            if \"|\" in onlyRelative:\n",
    "                parts = onlyRelative.split(\"|\")\n",
    "                insertRelative(parts[0],nom,parts[1])\n",
    "            else:\n",
    "                relation = re.search('Famille=.*?{{Comment\\|(.*?)}}',page.text)\n",
    "                if relation:\n",
    "                    insertRelative(onlyRelative,nom,relation.group(1))\n",
    "                else:\n",
    "                    insertRelative(onlyRelative,nom,\"?\")\n",
    "            continue\n",
    "        multipleRelatives = pattern.search(page.text)\n",
    "        if multipleRelatives:\n",
    "            famille_text = multipleRelatives.group(1)\n",
    "            famille = re.findall(r'\\*\\[\\[([^\\]]+)\\]\\]',famille_text)\n",
    "            for member in famille:\n",
    "                if \"|\" in member:\n",
    "                    parts = member.split(\"|\")\n",
    "                    insertRelative(parts[0],nom,parts[1])\n",
    "                else:\n",
    "                    relation = re.search(f'\\*\\[\\[{member}\\]\\].*?{{{{Comment\\|(.*?)}}}}',page.text)\n",
    "                    if relation:\n",
    "                        insertRelative(member,nom, relation.group(1))\n",
    "            \n",
    "        "
   ]
  },
  {
   "cell_type": "markdown",
   "metadata": {},
   "source": [
    "Finally commit the changes to the database so that all changes are saved and close the connection"
   ]
  },
  {
   "cell_type": "code",
   "execution_count": 10,
   "metadata": {},
   "outputs": [],
   "source": [
    "connection.commit()\n",
    "cursor.close()\n",
    "connection.close()"
   ]
  },
  {
   "cell_type": "code",
   "execution_count": null,
   "metadata": {},
   "outputs": [],
   "source": []
  }
 ],
 "metadata": {
  "kernelspec": {
   "display_name": "Python 3 (ipykernel)",
   "language": "python",
   "name": "python3"
  },
  "language_info": {
   "codemirror_mode": {
    "name": "ipython",
    "version": 3
   },
   "file_extension": ".py",
   "mimetype": "text/x-python",
   "name": "python",
   "nbconvert_exporter": "python",
   "pygments_lexer": "ipython3",
   "version": "3.11.5"
  }
 },
 "nbformat": 4,
 "nbformat_minor": 2
}
