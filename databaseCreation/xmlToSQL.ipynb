{
 "cells": [
  {
   "cell_type": "code",
   "execution_count": null,
   "metadata": {},
   "outputs": [],
   "source": [
    "def preprocessing(target):\n",
    "    target = re.sub(r'\\n(?!\\|)', ', ', target)\n",
    "    return target.replace('*','').replace('[', '').replace(']', '')\n",
    "\n",
    "def getAttribute(attribute, target):\n",
    "    target = preprocessing(target)\n",
    "    matchingString = f'\\|{attribute}=([^\\n\\{{\\}}<>]*)[^\\n]*\\n\\|'\n",
    "    result=\"?\"\n",
    "    if attribute == \"Mort\" or attribute == \"Naissance\":\n",
    "        try:\n",
    "            result = re.search('\\|{}=.*?(\\d{4}).*?\\s\\|',target).group(1)\n",
    "        except:\n",
    "            return \"0\"\n",
    "    else:\n",
    "        #if attribute == \"Sang\":\n",
    "            #matchingString = \"\\|Sang=\\[\\[([^]]+)\\]\\]\"\n",
    "        #if attribute == \"Localisation\":\n",
    "            #matchingString = \"\\|Localisation=.*?\\[\\[([^]]+)\\]\\]\"\n",
    "        #if attribute == \"Statut\":\n",
    "            #matchingString = \"\\|Statut=([^\\{\\}\\n]*).*\\n\\|\"\n",
    "        try:\n",
    "            result = re.search(matchingString, target).group(1)\n",
    "            if result == \"\":\n",
    "                result=\"?\"\n",
    "        except:\n",
    "            return \"?\"\n",
    "    result = result.replace(\"'\",\"('')\")\n",
    "    return result\n",
    "\n",
    "def getNom(target):\n",
    "    try:\n",
    "        result = re.search('\\|Nom=(.*?)\\s\\|', target).group(1)\n",
    "    except:\n",
    "        return \"\"\n",
    "    return result\n",
    "\n",
    "def getYeux(target):\n",
    "    try:\n",
    "        result = re.search('\\|Yeux=([\\w\\ 0-9,\\']*).*?\\s\\|', target).group(1)\n",
    "    except:\n",
    "        return \"\"\n",
    "    return result\n",
    "\n",
    "def getGenre(target):\n",
    "    try:\n",
    "        result = re.search('\\|Genre=\\ ?([A-Za-z0-9â]*?)\\s\\|', target).group(1)\n",
    "    except:\n",
    "        return \"\"\n",
    "    return result\n",
    "\n",
    "def getCheveux(target):\n",
    "    try:\n",
    "        result = re.search('\\|Cheveux=([A-Za-z0-9]*?)\\s\\|', target).group(1)\n",
    "        if result == \"\":\n",
    "            return \"Inconnu\"\n",
    "    except:\n",
    "        return \"Inconnu\"\n",
    "    return result\n",
    "\n",
    "\n",
    "def getNaissance(target):\n",
    "    try:\n",
    "        result = re.search('\\|Naissance=.*?(\\d{4}).*?\\s\\|',target).group(1)\n",
    "    except:\n",
    "        return \"0\"\n",
    "    return result\n",
    "\n",
    "def getMort(target):\n",
    "    try:\n",
    "        result = re.search('\\|Mort=.*?(\\d{4}).*?\\s\\|',target).group(1)\n",
    "    except:\n",
    "        return \"0\"\n",
    "    return result\n",
    "\n",
    "\n",
    "# with open('personnagesnaissance.txt','x') as f:\n",
    "#     for page in pages:\n",
    "#         if \"[[Catégorie:Personnage]]\" in page.text and (\"Catégorie:\" not in page.title.text):\n",
    "#             f.write(getAttribute(\"Nom\",page.text) +\" \"+ getAttribute(\"Naissance\",page.text)+\"\\n\")\n",
    "for page in pages[0:100]:\n",
    "    if \"[[Catégorie:Personnage]]\" in page.text and (\"Catégorie:\" not in page.title.text):\n",
    "        id = \"\"\n",
    "        for attr in [\"Nom\",\"Cheveux\",\"Yeux\",\"Genre\",\"Patronus\",\"Sang\"]:\n",
    "            id += f\" {getAttribute(attr,page.text)}\"\n",
    "        id += str(getMort(page.text))\n",
    "        print(id)\n",
    "for page in pages[100:2000]:\n",
    "    if \"[[Catégorie:Créatures\" in page.text and (\"Catégorie:\" not in page.title.text and \"Portail:\" not in page.title.text):\n",
    "        nom = getAttribute(\"Nom\",page.text)\n",
    "        yeux = getAttribute(\"Yeux\",page.text)\n",
    "        statut = getAttribute(\"Statut\",page.text)\n",
    "        apparence = getAttribute(\"Apparence\",page.text)\n",
    "        caractère = getAttribute(\"Caractère\",page.text)\n",
    "        localisation = getAttribute(\"Localisation\",page.text)\n",
    "        print(f\"Insert INTO créatures VALUES('{nom}','{statut}','{yeux}','{apparence}','{caractère}','{localisation}')\")"
   ]
  },
  {
   "cell_type": "code",
   "execution_count": null,
   "metadata": {},
   "outputs": [],
   "source": [
    "with open('personnages.txt','x') as f:\n",
    "    for page in pages:\n",
    "        if \"[[Catégorie:Personnage]]\" in page.text and (\"Catégorie:\" not in page.title.text):\n",
    "            f.write(xmlToSql.getAttribute(\"Nom\",page.text) +\" \"+ xmlToSql.getAttribute(\"Yeux\",page.text)+\"\\n\")"
   ]
  },
  {
   "cell_type": "code",
   "execution_count": null,
   "metadata": {},
   "outputs": [],
   "source": [
    "from bs4 import BeautifulSoup\n",
    "import re\n",
    "from xmlToSql import getAttribute\n",
    "import sqlite3"
   ]
  },
  {
   "cell_type": "markdown",
   "metadata": {},
   "source": [
    "Reading and parsing the dump with BeautifulSoup"
   ]
  },
  {
   "cell_type": "code",
   "execution_count": null,
   "metadata": {},
   "outputs": [],
   "source": [
    "with open('frharrypotter_pages_current.xml','r') as f:\n",
    "    file = f.read()\n",
    "\n",
    "soup = BeautifulSoup(file, 'xml')"
   ]
  },
  {
   "cell_type": "code",
   "execution_count": null,
   "metadata": {},
   "outputs": [],
   "source": [
    "pages = soup.find_all('page')"
   ]
  },
  {
   "cell_type": "markdown",
   "metadata": {},
   "source": [
    "## Creating the databases\n",
    "\n",
    "Start by creating an empty database."
   ]
  },
  {
   "cell_type": "code",
   "execution_count": null,
   "metadata": {},
   "outputs": [],
   "source": [
    "connection = sqlite3.connect(\"harrypotter_fr.db\")\n",
    "cursor = connection.cursor()"
   ]
  },
  {
   "cell_type": "markdown",
   "metadata": {},
   "source": [
    "### First the character table\n",
    "\n",
    "Create the table for characters named \"personnages\".\n",
    "\n",
    "Fill in the records thanks to the dump of the french Harry Potter Fandom and parsing functions in the xmlToSql.py file."
   ]
  },
  {
   "cell_type": "code",
   "execution_count": null,
   "metadata": {},
   "outputs": [],
   "source": [
    "cursor.execute(\"CREATE TABLE personnages (nom TEXT NOT NULL PRIMARY KEY, genre TEXT, yeux TEXT, cheveux TEXT, naissance INTEGER, mort INTEGER, patronus TEXT, sang TEXT)\")\n",
    "for page in pages:\n",
    "    if \"[[Catégorie:Personnage]]\" in page.text and (\"Catégorie:\" not in page.title.text):\n",
    "        nom = getAttribute(\"Nom\",page.text)\n",
    "        yeux = getAttribute(\"Yeux\",page.text)\n",
    "        cheveux = getAttribute(\"Cheveux\",page.text)\n",
    "        genre = getAttribute(\"Genre\",page.text)\n",
    "        patronus = getAttribute(\"Patronus\",page.text)\n",
    "        naissance = getAttribute(\"Naissance\",page.text)\n",
    "        mort = getAttribute(\"Mort\",page.text)\n",
    "        sang = getAttribute(\"Sang\",page.text)\n",
    "        print(f\"Insert INTO personnages VALUES('{nom}','{genre}','{yeux}','{cheveux}','{naissance}','{mort}','{patronus}','{sang}')\")\n",
    "        try:\n",
    "            cursor.execute(f\"Insert INTO personnages VALUES('{nom}','{genre}','{yeux}','{cheveux}','{naissance}','{mort}','{patronus}','{sang}')\")\n",
    "        except:\n",
    "            print(f\"Already inserted {nom}\")"
   ]
  },
  {
   "cell_type": "markdown",
   "metadata": {},
   "source": [
    "### Then table for creatures"
   ]
  },
  {
   "cell_type": "code",
   "execution_count": null,
   "metadata": {},
   "outputs": [],
   "source": [
    "cursor.execute(\"CREATE TABLE créatures (nom TEXT NOT NULL PRIMARY KEY, statut TEXT, yeux TEXT, apparence TEXT, caractère TEXT, localisation TEXT)\")"
   ]
  },
  {
   "cell_type": "code",
   "execution_count": null,
   "metadata": {},
   "outputs": [],
   "source": [
    "for page in pages:\n",
    "    if \"[[Catégorie:Créatures\" in page.text and (\"Catégorie:\" not in page.title.text):\n",
    "        nom = getAttribute(\"Nom\",page.text)\n",
    "        yeux = getAttribute(\"Yeux\",page.text)\n",
    "        statut = getAttribute(\"Statut\",page.text)\n",
    "        apparence = getAttribute(\"Apparence\",page.text)\n",
    "        caractère = getAttribute(\"Caractère\",page.text)\n",
    "        localisation = getAttribute(\"Localisation\",page.text)\n",
    "        print(f\"Insert INTO créatures VALUES('{nom}','{statut}','{yeux}','{apparence}','{caractère}','{localisation}')\")\n",
    "        try:\n",
    "            cursor.execute(f\"Insert INTO créatures VALUES('{nom}','{statut}','{yeux}','{apparence}','{caractère}','{localisation}')\")\n",
    "        except:\n",
    "            print(f\"Already inserted {nom}\")"
   ]
  },
  {
   "cell_type": "markdown",
   "metadata": {},
   "source": [
    "## Finally Junction Table between family members"
   ]
  },
  {
   "cell_type": "code",
   "execution_count": null,
   "metadata": {
    "scrolled": true
   },
   "outputs": [],
   "source": [
    "cursor.execute(\"CREATE TABLE famille (premier TEXT NOT NULL, second TEXT NOT NULL, relation TEXT, FOREIGN KEY (premier) REFERENCES personnages(nom), FOREIGN KEY (second) REFERENCES personnages(nom))\")"
   ]
  },
  {
   "cell_type": "code",
   "execution_count": null,
   "metadata": {},
   "outputs": [],
   "source": [
    "for page in pages[0:100]:\n",
    "    if \"[[Catégorie:Personnage]]\" in page.text and (\"Catégorie:\" not in page.title.text and \"Utilisateur:\" not in page.title.text):\n",
    "        nom = getAttribute(\"Nom\",page.text)\n",
    "        print(nom + \" is related to: \")\n",
    "        familleDiv = re.search(f'\\|Famille=(.*?)\\|Sang',page.text,re.DOTALL).group(1)\n",
    "        famille = re.findall(r'\\*\\[\\[([^\\]]+)\\]\\]',familleDiv)\n",
    "        print(famille)\n",
    "        try:\n",
    "            cursor.execute(f\"Insert INTO personnages VALUES('{nom}','{genre}','{yeux}','{cheveux}','{naissance}','{mort}','{patronus}','{sang}')\")\n",
    "        except:\n",
    "            print(f\"Already inserted {nom}\")"
   ]
  },
  {
   "cell_type": "code",
   "execution_count": null,
   "metadata": {},
   "outputs": [],
   "source": [
    "def insertRelative(first,second,relation):\n",
    "    first = first.replace(\"'\",\"('')\")\n",
    "    second = second.replace(\"'\",\"('')\")\n",
    "    relation = relation.replace(\"'\",\"('')\")\n",
    "    try:\n",
    "        cursor.execute(f\"Insert INTO famille VALUES('{first}','{second}','{relation}')\")\n",
    "    except:\n",
    "        print(f\"Inserting {first} {second} {relation} didn't work\")\n",
    "    return\n",
    "\n",
    "pattern = re.compile(r'Famille\\s*=\\s*(.*?)\\s\\|', re.S)\n",
    "for page in pages:\n",
    "    if \"[[Catégorie:Personnage]]\" in page.text and (\"Catégorie:\" not in page.title.text and \"Utilisateur:\" not in page.title.text):\n",
    "        nom = getAttribute(\"Nom\",page.text)\n",
    "        \n",
    "        if re.search('Famille\\s*=\\s*\\n\\|',page.text): #Related to no-one\n",
    "            continue\n",
    "        singleRelative = re.search('Famille\\s*=\\s*\\[\\[(.*?)\\]\\]',page.text)\n",
    "        if singleRelative:#Related to one person\n",
    "            onlyRelative = singleRelative.group(1)\n",
    "            if \"|\" in onlyRelative:\n",
    "                parts = onlyRelative.split(\"|\")\n",
    "                insertRelative(parts[0],nom,parts[1])\n",
    "            else:\n",
    "                relation = re.search('Famille=.*?{{Comment\\|(.*?)}}',page.text)\n",
    "                if relation:\n",
    "                    insertRelative(onlyRelative,nom,relation.group(1))\n",
    "                else:\n",
    "                    insertRelative(onlyRelative,nom,\"?\")\n",
    "            continue\n",
    "        multipleRelatives = pattern.search(page.text)\n",
    "        if multipleRelatives:\n",
    "            famille_text = multipleRelatives.group(1)\n",
    "            famille = re.findall(r'\\*\\[\\[([^\\]]+)\\]\\]',famille_text)\n",
    "            for member in famille:\n",
    "                if \"|\" in member:\n",
    "                    parts = member.split(\"|\")\n",
    "                    insertRelative(parts[0],nom,parts[1])\n",
    "                else:\n",
    "                    relation = re.search(f'\\*\\[\\[{member}\\]\\].*?{{{{Comment\\|(.*?)}}}}',page.text)\n",
    "                    if relation:\n",
    "                        insertRelative(member,nom, relation.group(1))\n",
    "            \n",
    "        "
   ]
  },
  {
   "cell_type": "code",
   "execution_count": null,
   "metadata": {},
   "outputs": [],
   "source": [
    "try:\n",
    "    cursor.execute(f\"Insert INTO famille VALUES('Ronul Weasley','Hffar','best friend')\")\n",
    "except:\n",
    "    print(f\"Already inserted {nom}\")"
   ]
  },
  {
   "cell_type": "code",
   "execution_count": null,
   "metadata": {},
   "outputs": [],
   "source": [
    "cursor.execute(\"SELECT * FROM famille WHERE second='Harry Potter'\")\n",
    "\n",
    "# Fetch all rows from the query result\n",
    "entries = cursor.fetchall()\n",
    "\n",
    "# Iterate through the rows and print each entry\n",
    "for entry in entries:\n",
    "    print(entry)\n",
    "\n"
   ]
  },
  {
   "cell_type": "markdown",
   "metadata": {},
   "source": [
    "Finally commit the changes to the database so that all changes are saved and close the connection"
   ]
  },
  {
   "cell_type": "code",
   "execution_count": null,
   "metadata": {},
   "outputs": [],
   "source": [
    "connection.commit()\n",
    "cursor.close()\n",
    "connection.close()"
   ]
  }
 ],
 "metadata": {
  "kernelspec": {
   "display_name": "Python 3 (ipykernel)",
   "language": "python",
   "name": "python3"
  },
  "language_info": {
   "codemirror_mode": {
    "name": "ipython",
    "version": 3
   },
   "file_extension": ".py",
   "mimetype": "text/x-python",
   "name": "python",
   "nbconvert_exporter": "python",
   "pygments_lexer": "ipython3",
   "version": "3.11.5"
  }
 },
 "nbformat": 4,
 "nbformat_minor": 2
}
