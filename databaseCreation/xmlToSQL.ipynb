{
 "cells": [
  {
   "cell_type": "code",
   "execution_count": 1,
   "metadata": {},
   "outputs": [],
   "source": [
    "from bs4 import BeautifulSoup\n",
    "import re\n",
    "import xmlToSql"
   ]
  },
  {
   "cell_type": "code",
   "execution_count": 2,
   "metadata": {},
   "outputs": [],
   "source": [
    "with open('frharrypotter_pages_current.xml','r') as f:\n",
    "    file = f.read()\n",
    "\n",
    "soup = BeautifulSoup(file, 'xml')"
   ]
  },
  {
   "cell_type": "code",
   "execution_count": 3,
   "metadata": {},
   "outputs": [],
   "source": [
    "pages = soup.find_all('page')"
   ]
  },
  {
   "cell_type": "code",
   "execution_count": 6,
   "metadata": {},
   "outputs": [
    {
     "ename": "AttributeError",
     "evalue": "module 'xmlToSql' has no attribute 'getAttribute'",
     "output_type": "error",
     "traceback": [
      "\u001b[1;31m---------------------------------------------------------------------------\u001b[0m",
      "\u001b[1;31mAttributeError\u001b[0m                            Traceback (most recent call last)",
      "\u001b[1;32mz:\\JMe\\coding club\\Nouvel atelier coding club online\\xmlToSQL.ipynb Cell 4\u001b[0m line \u001b[0;36m4\n\u001b[0;32m      <a href='vscode-notebook-cell:/z%3A/JMe/coding%20club/Nouvel%20atelier%20coding%20club%20online/xmlToSQL.ipynb#W4sZmlsZQ%3D%3D?line=1'>2</a>\u001b[0m \u001b[39mfor\u001b[39;00m page \u001b[39min\u001b[39;00m pages:\n\u001b[0;32m      <a href='vscode-notebook-cell:/z%3A/JMe/coding%20club/Nouvel%20atelier%20coding%20club%20online/xmlToSQL.ipynb#W4sZmlsZQ%3D%3D?line=2'>3</a>\u001b[0m     \u001b[39mif\u001b[39;00m \u001b[39m\"\u001b[39m\u001b[39m[[Catégorie:Personnage]]\u001b[39m\u001b[39m\"\u001b[39m \u001b[39min\u001b[39;00m page\u001b[39m.\u001b[39mtext \u001b[39mand\u001b[39;00m (\u001b[39m\"\u001b[39m\u001b[39mCatégorie:\u001b[39m\u001b[39m\"\u001b[39m \u001b[39mnot\u001b[39;00m \u001b[39min\u001b[39;00m page\u001b[39m.\u001b[39mtitle\u001b[39m.\u001b[39mtext):\n\u001b[1;32m----> <a href='vscode-notebook-cell:/z%3A/JMe/coding%20club/Nouvel%20atelier%20coding%20club%20online/xmlToSQL.ipynb#W4sZmlsZQ%3D%3D?line=3'>4</a>\u001b[0m         f\u001b[39m.\u001b[39mwrite(xmlToSql\u001b[39m.\u001b[39mgetAttribute(\u001b[39m\"\u001b[39m\u001b[39mNom\u001b[39m\u001b[39m\"\u001b[39m,page\u001b[39m.\u001b[39mtext) \u001b[39m+\u001b[39m\u001b[39m\"\u001b[39m\u001b[39m \u001b[39m\u001b[39m\"\u001b[39m\u001b[39m+\u001b[39m xmlToSql\u001b[39m.\u001b[39mgetAttribute(\u001b[39m\"\u001b[39m\u001b[39mYeux\u001b[39m\u001b[39m\"\u001b[39m,page\u001b[39m.\u001b[39mtext)\u001b[39m+\u001b[39m\u001b[39m\"\u001b[39m\u001b[39m\\n\u001b[39;00m\u001b[39m\"\u001b[39m)\n",
      "\u001b[1;31mAttributeError\u001b[0m: module 'xmlToSql' has no attribute 'getAttribute'"
     ]
    }
   ],
   "source": [
    "with open('personnages.txt','x') as f:\n",
    "    for page in pages:\n",
    "        if \"[[Catégorie:Personnage]]\" in page.text and (\"Catégorie:\" not in page.title.text):\n",
    "            f.write(xmlToSql.getAttribute(\"Nom\",page.text) +\" \"+ xmlToSql.getAttribute(\"Yeux\",page.text)+\"\\n\")"
   ]
  },
  {
   "cell_type": "code",
   "execution_count": 42,
   "metadata": {},
   "outputs": [
    {
     "name": "stdout",
     "output_type": "stream",
     "text": [
      "[]\n",
      "Harry Potter \n",
      "[]\n",
      "Drago Malefoy \n",
      "[]\n",
      "Ronald Weasley \n",
      "[]\n",
      "Albus Dumbledore \n",
      "[]\n",
      "Tom Elvis Jedusor \n",
      "Alastor Maugrey ERROR\n",
      "[]\n",
      "Minerva McGonagall \n"
     ]
    }
   ],
   "source": [
    "def getAttribute(attribute, target):\n",
    "    try:\n",
    "        result = re.search(f'\\|{attribute}=([\\w\\ 0-9,\\']*)\\W.*?\\s\\|', target).group(1)\n",
    "        if result == \"\":\n",
    "            return \"Inconnu\"\n",
    "    except:\n",
    "        return \"Inconnu\"\n",
    "    return result\n",
    "\n",
    "def getNaissance(target):\n",
    "    try:\n",
    "        internal = re.search('\\|Naissance\\ *?=\\ *?([\\[\\[.*\\]\\]|\\{\\{.*?\\}\\}]).*?\\s\\|',target).group(1)\n",
    "    except:\n",
    "        if re.search(f'\\|Naissance=()\\s\\|',target) is not None:\n",
    "            return \"Inconnu\"\n",
    "        else:\n",
    "            return \"ERROR\"\n",
    "    results = re.findall('\\[\\[(.*?)\\]\\]|\\{\\{(.*?)\\}\\}',internal)\n",
    "    print(results)\n",
    "    result = \"\"\n",
    "    for res in results:\n",
    "        result += res[0]+res[1] + \" \"\n",
    "    return result\n",
    "\n",
    "# with open('personnagesnaissance.txt','x') as f:\n",
    "#     for page in pages:\n",
    "#         if \"[[Catégorie:Personnage]]\" in page.text and (\"Catégorie:\" not in page.title.text):\n",
    "#             f.write(getAttribute(\"Nom\",page.text) +\" \"+ getAttribute(\"Naissance\",page.text)+\"\\n\")\n",
    "for page in pages[0:100]:\n",
    "    if \"[[Catégorie:Personnage]]\" in page.text and (\"Catégorie:\" not in page.title.text):\n",
    "        print(getAttribute(\"Nom\",page.text) +\" \"+ getNaissance(page.text))"
   ]
  },
  {
   "cell_type": "markdown",
   "metadata": {},
   "source": [
    "## Creating the database\n",
    "\n",
    "The database will be of the following structure:\n",
    "\n"
   ]
  },
  {
   "cell_type": "code",
   "execution_count": 13,
   "metadata": {},
   "outputs": [
    {
     "name": "stdout",
     "output_type": "stream",
     "text": [
      "1\n",
      "2\n",
      "0.3755656108597285\n"
     ]
    }
   ],
   "source": []
  },
  {
   "cell_type": "code",
   "execution_count": 27,
   "metadata": {},
   "outputs": [
    {
     "name": "stdout",
     "output_type": "stream",
     "text": [
      "19 septembre 1979 \n"
     ]
    }
   ],
   "source": [
    "string = \"|Yeux=Marron&lt;ref&gt;{{Référence|2x13}}&lt;/ref&gt;|Cheveux=Bruns&lt;ref&gt;{{Référence|1x06}}&lt;/ref&gt;|Naissance=[[19 septembre]] [[1979]]&lt;ref name=\\\"naissance\\\"&gt;{{Référence|Pottermore}}&lt;/ref&gt;\\n|Mort=|Famille=*[[Père d'Hermione Granger]] {{Comment|père}}*[[M\"\n",
    "internal = re.search('\\|Naissance\\ *?=\\ *?(\\[\\[.*\\]\\]).*?\\s\\|',string).group(1)\n",
    "results = re.findall('\\[\\[(.*?)\\]\\]',internal)\n",
    "result = \"\"\n",
    "for res in results:\n",
    "    result += res + \" \"\n",
    "print(result)"
   ]
  }
 ],
 "metadata": {
  "kernelspec": {
   "display_name": "base",
   "language": "python",
   "name": "python3"
  },
  "language_info": {
   "codemirror_mode": {
    "name": "ipython",
    "version": 3
   },
   "file_extension": ".py",
   "mimetype": "text/x-python",
   "name": "python",
   "nbconvert_exporter": "python",
   "pygments_lexer": "ipython3",
   "version": "3.11.4"
  }
 },
 "nbformat": 4,
 "nbformat_minor": 2
}
