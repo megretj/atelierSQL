{
 "cells": [
  {
   "cell_type": "code",
   "execution_count": 11,
   "metadata": {},
   "outputs": [
    {
     "name": "stdout",
     "output_type": "stream",
     "text": [
      "[('Alastor Maugrey', 'Homme', \"Un œil petit et sombre et un autre grand, rond, d'un bleu électrique\", 'Gris', 1961, 1997, 'Canard', 'Sorcier'), ('Seamus Finnigan', 'Homme', 'Violets', 'Blonds', 1979, 0, 'Renard', 'Sang-mêlé'), ('Hugo Granger-Weasley', 'Homme', 'Gris', 'Bruns', 0, 0, 'Canard', 'Sang-mêlé'), ('Gilderoy Lockhart', 'Homme', 'Bleu clair', 'Blonds ondulés', 1964, 0, 'Canard', 'Sang-mêlé'), ('Narcissa Malefoy', 'Femme', 'Bleus', 'Blonds', 1955, 0, 'Canard', 'Sang-pur'), ('Charles Weasley', 'Homme', 'Marron', 'Roux', 1972, 0, 'Canard', 'Sang-pur'), ('Vernon Dursley', 'Homme', 'Marrons', 'Noirs', 0, 0, 'Canard', 'Moldu'), ('Millicent Bagnold', 'Femme', 'Gris', 'Noirs', 0, 0, 'Canard', 'Sorcière'), ('Wilkie Tycross', 'Homme', 'Noirs', 'Roux', 0, 0, 'Canard', 'Sorcier'), ('Charity Burbage', 'Femme', 'Bruns', 'Bruns', 0, 1997, 'Canard', 'Sorcière'), ('Joey Jenkins', 'Homme', 'Bleus', 'Roux', 0, 0, 'Canard', 'Sorcier'), ('Frank Bryce', 'Homme', 'Verts', 'Bruns', 1917, 1994, 'Canard', 'Moldu'), ('Reginald Cattermole', 'Homme', 'Gris', 'Roux', 0, 0, 'Canard', 'Sang-pur ou sang-mêlé'), ('Mordicus Leufcock', 'Homme', 'Marron', 'Bruns', 0, 0, 'Canard', 'Sorcier'), ('Travers', 'Homme', 'Bruns', 'Gris', 0, 0, 'Canard', 'Sang-pur'), ('Nott', 'Homme', 'Bleus', 'Bruns', 0, 0, 'Canard', 'Sang-pur'), ('Ignatia Wildsmith', 'Femme', 'Bleus', 'Gris', 1227, 1320, 'Canard', 'Sorcière'), ('Fifi LaFolle', 'Femme', 'Marron', 'Gris', 1888, 1971, 'Canard', 'Sorcière'), ('Erica Stainwright', 'Femme', 'Bruns', 'Bruns', 1932, 2001, 'Canard', 'Sorcière'), ('Harris Laverrue', 'Homme', 'Verts', 'Blancs', 0, 0, 'Canard', 'Sorcier'), ('Loxias', 'Homme', 'Bleus', 'Bruns', 0, 0, 'Canard', 'Sorcier'), ('Espérance Howell', 'Femme', 'Verts', 'Bruns', 0, 1981, 'Canard', 'Moldue'), ('Bradley', 'Homme', 'Noirs', 'Noirs', 0, 0, 'Canard', 'Sorcier'), ('Nièce du Premier Ministre', 'Femme', 'Verts', 'Roux', 0, 0, 'Canard', 'Moldue'), ('Octavius Pepper', 'Homme', 'Violets', 'Blancs', 0, 0, 'Canard', 'Sorcier'), ('Gédéon Miette', 'Homme', 'Bruns', 'Roux', 1975, 0, 'Canard', 'Sorcier'), ('Victime de Leticia Somnolens', 'Femme', 'Verts', 'Roux', 0, 0, 'Canard', 'Humaine'), ('Günther le Violent', 'Homme', 'Noirs', 'Roux', 0, 0, 'Canard', 'Sorcier'), ('Georgia Clark-Day', 'Femme', 'Bleus', 'Gris', 0, 1997, 'Canard', 'Sorcière'), ('Emily Mather', 'Femme', 'Marron', 'Blonds', 0, 1997, 'Canard', 'Sorcière'), ('H. Pollingtonious', '?', 'Marron', 'Blonds', 0, 0, 'Canard', 'Sorcier'), ('Arturo Cephalopos', 'Homme', 'Gris', 'Blonds', 0, 0, 'Canard', '?'), ('Ulick Gamp', 'Homme', 'Gris', 'Blonds', 0, 0, 'Canard', 'Sang-pur ou sang-mêlé'), ('Brian Gagwilde', 'Homme', 'Gris', 'Gris', 0, 0, 'Canard', 'Sorcier'), ('Mère de Violette Tillyman', 'Femme', 'Verts', 'Blonds', 0, 0, 'Canard', 'Sorcière'), ('Levina Monkstanley', 'Femme', 'Bleus', 'Noirs', 0, 0, 'Canard', 'Sorcière'), ('Noriko Sato', 'Femme', 'Gris', 'Roux', 0, 0, 'Canard', 'Sorcière'), ('Samuel Plunkett', 'Homme', 'Violets', 'Bruns', 0, 0, 'Canard', '?'), ('Benedita Dourado', 'Femme', 'Verts', 'Roux', 0, 0, 'Canard', '?'), ('Ivan Popa', 'Homme', 'Verts', 'Blancs', 0, 0, 'Canard', 'Sorcier'), ('Robbie Fenwick', 'Homme', 'Gris', 'Gris', 1996, 0, 'Canard', 'Moldu'), ('Shoma Ichikawa', 'Homme', 'Gris', 'Noirs', 1982, 0, 'Canard', 'Sorcier'), ('Borys la Brute', 'Homme', 'Noirs', 'Châtains', 1926, 0, 'Canard', '?'), ('Betty Bickering', 'Femme', 'Violets', 'Blancs', 1693, 0, 'Canard', 'Sorcière'), ('Jussien Turlupin', 'Homme', 'Marron', 'Bruns', 0, 0, 'Canard', 'Sorcier'), ('Dinah Stevenson', 'Femme', 'Noirs', 'Gris', 0, 1906, 'Canard', 'Humaine'), ('Eunice Cabanart', 'Femme', 'Bruns', 'Noirs', 1927, 0, 'Canard', 'Sorcière'), ('Frères de Tertius', 'Homme', 'Marron', 'Blonds', 0, 0, 'Canard', 'Moldus'), ('Roderick Cruickshank', 'Homme', 'Bruns', 'Gris', 1491, 0, 'Canard', 'Sorcier'), ('J. Ward', '?', 'Noirs', 'Bruns', 0, 0, 'Canard', 'Sorcier'), (\"L. O'Sullivan\", '?', 'Verts', 'Blancs', 0, 0, 'Canard', 'Sorcier'), ('Kim Kurzke', 'Femme', 'Violets', 'Blancs', 0, 0, 'Canard', 'Moldue'), ('Ésope Sharp', 'Homme', 'Noirs', 'Blonds', 0, 0, 'Canard', 'Sorcier'), ('Grace Pinch-Smedley', 'Femme', 'Bruns', 'Bruns', 0, 0, 'Canard', 'Sorcière'), ('Henrietta', 'Femme', 'Bleus', 'Gris', 0, 1890, 'Canard', 'Sorcière'), ('Champion des sorciers de Serpentard', 'Homme', 'Bruns', 'Blonds', 0, 0, 'Canard', 'Sorcier')]\n"
     ]
    }
   ],
   "source": [
    "print(cursor.execute(f\"SELECT * from personnages where patronus like '%Nar%'\").fetchall())"
   ]
  },
  {
   "cell_type": "code",
   "execution_count": null,
   "metadata": {},
   "outputs": [],
   "source": [
    "with open('personnages.txt','x') as f:\n",
    "    for page in pages:\n",
    "        if \"[[Catégorie:Personnage]]\" in page.text and (\"Catégorie:\" not in page.title.text):\n",
    "            f.write(xmlToSql.getAttribute(\"Nom\",page) +\" \"+ xmlToSql.getAttribute(\"Yeux\",page)+\"\\n\")"
   ]
  },
  {
   "cell_type": "code",
   "execution_count": 1,
   "metadata": {},
   "outputs": [],
   "source": [
    "from bs4 import BeautifulSoup\n",
    "import re\n",
    "from xmlToSql import getAttribute\n",
    "import sqlite3"
   ]
  },
  {
   "cell_type": "markdown",
   "metadata": {},
   "source": [
    "Reading and parsing the dump with BeautifulSoup"
   ]
  },
  {
   "cell_type": "code",
   "execution_count": 2,
   "metadata": {},
   "outputs": [],
   "source": [
    "with open('frharrypotter_pages_current.xml','r') as f:\n",
    "    file = f.read()\n",
    "\n",
    "soup = BeautifulSoup(file, 'xml')\n",
    "pages = soup.find_all('page')"
   ]
  },
  {
   "cell_type": "markdown",
   "metadata": {},
   "source": [
    "## Creating the databases\n",
    "\n",
    "Start by creating an empty database."
   ]
  },
  {
   "cell_type": "code",
   "execution_count": 3,
   "metadata": {},
   "outputs": [],
   "source": [
    "connection = sqlite3.connect(\"harrypotter_fr.db\")\n",
    "cursor = connection.cursor()"
   ]
  },
  {
   "cell_type": "markdown",
   "metadata": {},
   "source": [
    "### First the character table\n",
    "\n",
    "Create the table for characters named \"personnages\".\n",
    "\n",
    "Fill in the records thanks to the dump of the french Harry Potter Fandom and parsing functions in the xmlToSql.py file."
   ]
  },
  {
   "cell_type": "code",
   "execution_count": 4,
   "metadata": {},
   "outputs": [
    {
     "name": "stdout",
     "output_type": "stream",
     "text": [
      "Already inserted Lily Potter\n",
      "Already inserted Fred Weasley\n",
      "Already inserted Molly Weasley\n",
      "Already inserted Avery\n",
      "Already inserted Mulciber\n",
      "Already inserted Élève garçon de Beauxbâtons non identifié\n",
      "Already inserted Élève garçon de Beauxbâtons non identifié\n",
      "Already inserted Élèves filles de Beauxbâtons non identifiées\n",
      "Already inserted Stebbins\n",
      "Already inserted Emily\n",
      "Already inserted Derek\n",
      "Already inserted M. Carneirus\n",
      "Already inserted Stebbins\n",
      "Already inserted Julia Dehoff\n",
      "Already inserted M. Carneiro\n",
      "Already inserted Emma Vane\n",
      "Already inserted Luca Caruso\n",
      "Already inserted Luca Caruso\n",
      "Already inserted Albert\n",
      "Already inserted Andrew Snowy Owl\n",
      "Already inserted Winky Crockett\n",
      "Already inserted Jo King\n",
      "Already inserted Emma Vanity\n",
      "Already inserted L. Wakefield\n",
      "Already inserted William de Cognac\n",
      "Already inserted Eduardo Lima\n",
      "Already inserted Eduardus Limus\n",
      "Already inserted Miraforum\n",
      "Already inserted Loretta Fieldwake\n",
      "Already inserted M. Mina\n",
      "Already inserted R. Amorim\n"
     ]
    }
   ],
   "source": [
    "cursor.execute(\"CREATE TABLE personnages (nom TEXT NOT NULL PRIMARY KEY, genre TEXT, yeux TEXT, cheveux TEXT, naissance INTEGER, mort INTEGER, patronus TEXT, sang TEXT)\")\n",
    "for page in pages:\n",
    "    if \"[[Catégorie:Personnage]]\" in page.text and (\"Catégorie:\" not in page.title.text):\n",
    "        nom = getAttribute(\"Nom\",page)\n",
    "        yeux = getAttribute(\"Yeux\",page)\n",
    "        cheveux = getAttribute(\"Cheveux\",page)\n",
    "        genre = getAttribute(\"Genre\",page)\n",
    "        patronus = getAttribute(\"Patronus\",page)\n",
    "        naissance = getAttribute(\"Naissance\",page)\n",
    "        mort = getAttribute(\"Mort\",page)\n",
    "        sang = getAttribute(\"Sang\",page)\n",
    "        # print(f\"Insert INTO personnages VALUES('{nom}','{genre}','{yeux}','{cheveux}','{naissance}','{mort}','{patronus}','{sang}')\")\n",
    "        try:\n",
    "            if nom =='?':\n",
    "                continue\n",
    "            cursor.execute(f\"Insert INTO personnages VALUES('{nom}','{genre}','{yeux}','{cheveux}','{naissance}','{mort}','{patronus}','{sang}')\")\n",
    "        except:\n",
    "            print(f\"Already inserted {nom}\")"
   ]
  },
  {
   "cell_type": "markdown",
   "metadata": {},
   "source": [
    "### Then table for creatures"
   ]
  },
  {
   "cell_type": "code",
   "execution_count": 5,
   "metadata": {},
   "outputs": [
    {
     "data": {
      "text/plain": [
       "<sqlite3.Cursor at 0x7fe371237240>"
      ]
     },
     "execution_count": 5,
     "metadata": {},
     "output_type": "execute_result"
    }
   ],
   "source": [
    "cursor.execute(\"CREATE TABLE créatures (nom_créature TEXT NOT NULL PRIMARY KEY, statut_créature TEXT, yeux_créature TEXT, plumes_poils text, apparence TEXT, caractère TEXT, localisation TEXT)\")"
   ]
  },
  {
   "cell_type": "code",
   "execution_count": 6,
   "metadata": {},
   "outputs": [
    {
     "name": "stdout",
     "output_type": "stream",
     "text": [
      "Already inserted Diablotin\n",
      "Already inserted Cachalot\n",
      "Already inserted Hippocampe\n"
     ]
    }
   ],
   "source": [
    "for page in pages:\n",
    "    if \"[[Catégorie:Créature\" in page.text and (\"Catégorie:\" not in page.title.text and \"Portail:\" not in page.title.text):\n",
    "        nom = getAttribute(\"Nom\",page)\n",
    "        yeux = getAttribute(\"Yeux\",page)\n",
    "        poils = getAttribute(\"Plumes/Poils\",page)\n",
    "        statut = getAttribute(\"Statut\",page)\n",
    "        apparence = getAttribute(\"Apparence\",page)\n",
    "        caractère = getAttribute(\"Caractère\",page)\n",
    "        localisation = getAttribute(\"Localisation\",page)\n",
    "        #print(f\"Insert INTO créatures VALUES('{nom}','{statut}','{yeux}','{apparence}','{caractère}','{localisation}')\")\n",
    "        try:\n",
    "            if nom =='?':\n",
    "                continue\n",
    "            cursor.execute(f\"Insert INTO créatures VALUES('{nom}','{statut}','{yeux}','{poils}','{apparence}','{caractère}','{localisation}')\")\n",
    "        except:\n",
    "            print(f\"Already inserted {nom}\")"
   ]
  },
  {
   "cell_type": "markdown",
   "metadata": {},
   "source": [
    "## Finally Junction Table between family members"
   ]
  },
  {
   "cell_type": "code",
   "execution_count": 7,
   "metadata": {
    "scrolled": true
   },
   "outputs": [
    {
     "data": {
      "text/plain": [
       "<sqlite3.Cursor at 0x7fe371237240>"
      ]
     },
     "execution_count": 7,
     "metadata": {},
     "output_type": "execute_result"
    }
   ],
   "source": [
    "cursor.execute(\"CREATE TABLE famille (premier_nom TEXT NOT NULL, second_nom TEXT NOT NULL, relation TEXT, FOREIGN KEY (premier_nom) REFERENCES personnages(nom), FOREIGN KEY (second_nom) REFERENCES personnages(nom))\")"
   ]
  },
  {
   "cell_type": "code",
   "execution_count": 8,
   "metadata": {},
   "outputs": [],
   "source": [
    "def insertRelative(first,second,relation):\n",
    "    first = first.replace(\"'\",\"''\")\n",
    "    second = second.replace(\"'\",\"''\")\n",
    "    relation = relation.replace(\"'\",\"''\").capitalize().strip()\n",
    "    try:\n",
    "        if first =='?' or second == '?':\n",
    "            return\n",
    "        cursor.execute(f\"Insert INTO famille VALUES('{first}','{second}','{relation}')\")\n",
    "    except:\n",
    "        print(f\"Inserting {first} {second} {relation} didn't work\")\n",
    "    return\n",
    "\n",
    "pattern = re.compile(r'Famille\\s*=\\s*(.*?)\\s\\|', re.S)\n",
    "for page in pages:\n",
    "    if \"[[Catégorie:Personnage]]\" in page.text and (\"Catégorie:\" not in page.title.text and \"Utilisateur:\" not in page.title.text):\n",
    "        nom = getAttribute(\"Nom\",page)\n",
    "        if re.search('Famille\\s*=\\s*\\n\\|',page.text): #Related to no-one\n",
    "            continue\n",
    "        singleRelative = re.search('Famille\\s*=\\s*\\[\\[(.*?)\\]\\]',page.text)\n",
    "        if singleRelative:#Related to one person\n",
    "            onlyRelative = singleRelative.group(1)\n",
    "            if \"|\" in onlyRelative:\n",
    "                parts = onlyRelative.split(\"|\")\n",
    "                insertRelative(parts[0],nom,parts[1])\n",
    "            else:\n",
    "                relation = re.search('Famille=.*?{{Comment\\|(.*?)}}',page.text)\n",
    "                if relation:\n",
    "                    insertRelative(onlyRelative,nom,relation.group(1))\n",
    "                else:\n",
    "                    insertRelative(onlyRelative,nom,\"?\")\n",
    "            continue\n",
    "        multipleRelatives = pattern.search(page.text)\n",
    "        if multipleRelatives:\n",
    "            famille_text = multipleRelatives.group(1)\n",
    "            famille = re.findall(r'\\*\\[\\[([^\\]]+)\\]\\]',famille_text)\n",
    "            for member in famille:\n",
    "                if \"|\" in member:\n",
    "                    parts = member.split(\"|\")\n",
    "                    insertRelative(parts[0],nom,parts[1])\n",
    "                else:\n",
    "                    relation = re.search(f'\\*\\[\\[{member}\\]\\].*?{{{{Comment\\|(.*?)}}}}',page.text)\n",
    "                    if relation:\n",
    "                        insertRelative(member,nom, relation.group(1))\n",
    "            \n",
    "        "
   ]
  },
  {
   "cell_type": "markdown",
   "metadata": {},
   "source": [
    "Finally commit the changes to the database so that all changes are saved and close the connection"
   ]
  },
  {
   "cell_type": "code",
   "execution_count": 12,
   "metadata": {},
   "outputs": [],
   "source": [
    "connection.commit()\n",
    "cursor.close()\n",
    "connection.close()"
   ]
  },
  {
   "cell_type": "markdown",
   "metadata": {},
   "source": [
    "# Jetzt auf Deutsch"
   ]
  },
  {
   "cell_type": "code",
   "execution_count": 1,
   "metadata": {},
   "outputs": [],
   "source": [
    "from bs4 import BeautifulSoup\n",
    "import re\n",
    "from xmlToSql_de import getAttribute, randomly_attribute\n",
    "import sqlite3\n",
    "import random"
   ]
  },
  {
   "cell_type": "code",
   "execution_count": 2,
   "metadata": {},
   "outputs": [],
   "source": [
    "with open('deharrypotter_pages_current.xml','r') as f:\n",
    "    file = f.read()\n",
    "\n",
    "soup = BeautifulSoup(file, 'xml')\n",
    "pages = soup.find_all('page')"
   ]
  },
  {
   "cell_type": "code",
   "execution_count": 6,
   "metadata": {},
   "outputs": [],
   "source": [
    "connection = sqlite3.connect(\"harrypotter_de.db\")\n",
    "cursor = connection.cursor()"
   ]
  },
  {
   "cell_type": "code",
   "execution_count": 7,
   "metadata": {},
   "outputs": [
    {
     "name": "stdout",
     "output_type": "stream",
     "text": [
      "Already inserted Bartemius Crouch,'Männlich','Silbergrau','Grau','1964','1995','Phönix','Reinblut'\n",
      "Already inserted Sirius Black,'Männlich','Braun','Blond','0','0','Pufferfisch','Reinblut'\n",
      "Already inserted Fred Weasley,'Männlich','Braun','Rot','1978','1998','Elster','Reinblut'\n",
      "Already inserted Cygnus Black,'Männlich','Braun','Schwarz','0','0','Otter','Reinblut'\n",
      "Already inserted Sirius Black,'Männlich','Blau','Braun','0','0','Kniesel','Reinblut'\n",
      "Already inserted Arcturus Black,'Männlich','Rot','Braun','0','0','Drachen','Reinblut'\n",
      "Already inserted Cygnus Black,'Männlich','Schwarz','Braun','0','0','Kniesel','Reinblut'\n",
      "Already inserted Arcturus Black,'Männlich','Grün','Grau','0','0','Pufferfisch','Reinblut'\n",
      "Already inserted Riese in der Schlacht von Hogwarts,'Männlich','Blau','Schwarz, glatzenbildung','0','1998','Einhorn','?'\n",
      "Already inserted Jo King,'Weiblich','Braun','Schwarz','0','0','Löwe','?'\n",
      "Already inserted Irving Cram,'Männlich','Grün','Schwarz','1985','0','Bowtruckle','?'\n",
      "Already inserted Karkus' Ehefrau,'Unbekannt','Braun','Schwarz','0','0','Pufferfisch','?'\n",
      "Already inserted Quidditchspieler,'Männlich','Braun','Braun','0','1991','Dementor','?'\n",
      "Already inserted Eduardo Lima,'Männlich','Braun','Grau','0','0','Niffler','?'\n",
      "Already inserted Alice Tolipan,'Weiblich','Braun','Braun','1984','0','Hippocampus','?'\n",
      "Already inserted Henry Shaw,'Männlich','Braun','Braun','1891','1926','Niffler','Muggel'\n"
     ]
    }
   ],
   "source": [
    "cursor.execute(\"CREATE TABLE charaktere (Name TEXT NOT NULL PRIMARY KEY, Geschlecht TEXT, Augen TEXT, Haare TEXT, Geburt INTEGER, Tod INTEGER, Patronus TEXT, Blutstatus TEXT)\")\n",
    "kategorien =[\"[[Kategorie:Weibliche Charaktere]]\", \"Kategorie:Hexen / Zauberer\", \"Kategorie:Männliche Charaktere\"]\n",
    "for page in pages:\n",
    "    if any(kategorie in page.text for kategorie in kategorien) and (\":\" not in page.title.text):\n",
    "        nom = getAttribute(\"Name\",page)\n",
    "        if nom == \"?\":\n",
    "            nom = page.title.text\n",
    "        if not \"Charakterinfobox\" in page.text and not \"Infobox\" in page.text :\n",
    "            nom = page.title.text\n",
    "            yeux = randomly_attribute(\"Augen\")\n",
    "            cheveux = randomly_attribute(\"Haare\")\n",
    "            genre = randomly_attribute(\"Geschlecht\")\n",
    "            naissance = 0\n",
    "            mort = 0\n",
    "            sang = \"?\"\n",
    "            patronus = randomly_attribute(\"Patronus\")\n",
    "        else:\n",
    "            yeux = getAttribute(\"Augen\",page)\n",
    "            cheveux = getAttribute(\"Haare\",page)\n",
    "            genre = getAttribute(\"Geschlecht\",page)\n",
    "            patronus = getAttribute(\"Patronus\",page)\n",
    "            naissance = getAttribute(\"Geburt\",page)\n",
    "            mort = getAttribute(\"Tod\",page)\n",
    "            sang = getAttribute(\"Blut\",page)\n",
    "        if (nom == \"?\"):\n",
    "            print(page.title.text)\n",
    "        #cursor.execute(f\"Insert INTO charaktere VALUES('{nom}','{genre}','{yeux}','{cheveux}','{naissance}','{mort}','{patronus}','{sang}')\")\n",
    "        try:\n",
    "            # print(f\"Insert INTO personen VALUES('{nom}','{genre}','{yeux}','{cheveux}','{naissance}','{mort}','{patronus}','{sang}')\")\n",
    "            cursor.execute(f\"Insert INTO charaktere VALUES('{nom}','{genre}','{yeux}','{cheveux}','{naissance}','{mort}','{patronus}','{sang}')\")\n",
    "        except:\n",
    "            print(f\"Already inserted {nom},'{genre}','{yeux}','{cheveux}','{naissance}','{mort}','{patronus}','{sang}'\")"
   ]
  },
  {
   "cell_type": "code",
   "execution_count": 8,
   "metadata": {},
   "outputs": [
    {
     "name": "stdout",
     "output_type": "stream",
     "text": [
      "[('Humphrey Belcher', 'Männlich', 'Blau', 'Schwarz', 0, 0, 'Diricawl', '?')]\n"
     ]
    }
   ],
   "source": [
    "cursor.execute(f\"UPDATE charaktere SET Name = 'Humphrey Belcher' WHERE name like '%Humphrey Belcher%' \")\n",
    "cursor.execute(f\"UPDATE charaktere SET Blutstatus = 'Maledictus' WHERE name = 'Nagini' \")\n",
    "cursor.execute(f\"UPDATE charaktere SET Patronus = 'Löwe' WHERE name = 'Der Blutige Baron' \")\n",
    "cursor.execute(f\"UPDATE charaktere SET Patronus = 'Hirsch' WHERE name = 'Severus Snape' \")\n",
    "cursor.execute(f\"UPDATE charaktere SET Patronus = 'Hirsch' WHERE name = 'Harry James Potter' \")\n",
    "cursor.execute(f\"UPDATE charaktere SET Patronus = 'Damhirschkuh' WHERE name = 'Lily J. Potter (geb. Evans)' \")\n",
    "cursor.execute(f\"UPDATE charaktere SET Name = 'Bellatrix Lestrange' WHERE name = 'Bellatrix Lestrange (geb. Black)' \")\n",
    "cursor.execute(f\"UPDATE charaktere SET Geburt = 1850, Tod = 1931 WHERE name = 'Elladora Black' \")\n",
    "cursor.execute(f\"UPDATE charaktere SET Geburt = 1904, Tod = 1965 WHERE name = 'Lycoris Black' \")\n",
    "cursor.execute(f\"UPDATE charaktere SET Geburt = 1925, Tod = 1985, Patronus='Hase' WHERE name = 'Walburga Black' \")\n",
    "cursor.execute(f\"UPDATE charaktere SET Geschlecht = 'Weiblich', Geburt = 1961 WHERE name = 'Andromeda Tonks' \")\n",
    "cursor.execute(f\"UPDATE charaktere SET Geschlecht = 'Weiblich', Geburt = 1908, Haare='Blond' WHERE name = 'Irma Crabbe' \")\n",
    "print(cursor.execute(f\"SELECT * from charaktere WHERE name = 'Humphrey Belcher'\").fetchall())"
   ]
  },
  {
   "cell_type": "markdown",
   "metadata": {},
   "source": [
    "## Kreaturen"
   ]
  },
  {
   "cell_type": "code",
   "execution_count": 9,
   "metadata": {},
   "outputs": [
    {
     "data": {
      "text/plain": [
       "<sqlite3.Cursor at 0x7fed7785b840>"
      ]
     },
     "execution_count": 9,
     "metadata": {},
     "output_type": "execute_result"
    }
   ],
   "source": [
    "cursor.execute(\"CREATE TABLE kreaturen (name_kreatur TEXT NOT NULL PRIMARY KEY, status_kreatur TEXT, augen_kreatur TEXT, haut_kreatur text, federn_kreatur, eigenschaften_kreatur TEXT, verbreitung_kreatur TEXT)\")"
   ]
  },
  {
   "cell_type": "code",
   "execution_count": 10,
   "metadata": {},
   "outputs": [],
   "source": [
    "kategorien = [\"Kategorie:Tierwesen\",\"Kategorie:Vögel\",\"Kategorie:Drachen\",\n",
    "              \"Kategorie:Kreatur\",\"Kategorie:XXX Kreaturen\",\"Kategorie:Flugfähige Kreaturen\",\n",
    "              \"Kategorie:Verstorbene Kreaturen\",\"Kategorie:Sprechende Kreaturen\",\"Kategorie:Magische Kreaturen\"\n",
    "             \"Kategorie:XX Kreaturen\",\"Kategorie:X Kreaturen\",\"Kategorie:XXXX Kreaturen\",\"Kategorie:XXXXX Kreaturen\"]\n",
    "for page in pages:\n",
    "    if any(kategorie in page.text for kategorie in kategorien) and (\"Kategorie:\" not in page.title.text and \"Portal:\" not in page.title.text and \"Vorlage:\" not in page.title.text):\n",
    "        if not \"Charakterinfobox\" in page.text and not \"Infobox\" in page.text:\n",
    "            continue\n",
    "        else:\n",
    "            nom = getAttribute(\"Name\",page)\n",
    "            yeux = getAttribute(\"Augen\",page)\n",
    "            plumes = getAttribute(\"Federn\",page)\n",
    "            peau = getAttribute(\"Haut\",page)\n",
    "            statut = getAttribute(\"Status\",page)\n",
    "            spezies = getAttribute(\"Spezies\",page)\n",
    "            statut = statut if (not statut==\"?\") else spezies\n",
    "            eigenschaft = getAttribute(\"Eigenschaft\",page)\n",
    "            localisation = getAttribute(\"Verbreitung\",page)\n",
    "        # print(f\"Insert INTO kreaturen VALUES('{nom}','{statut}','{yeux}','{peau}','{plumes}','{eigenschaft}','{localisation}')\")\n",
    "        # cursor.execute(f\"Insert INTO kreaturen VALUES('{nom}','{statut}','{yeux}','{peau}','{plumes}','{eigenschaft}','{localisation}')\")\n",
    "        try:\n",
    "            cursor.execute(f\"Insert INTO kreaturen VALUES('{nom}','{statut}','{yeux}','{peau}','{plumes}','{eigenschaft}','{localisation}')\")\n",
    "        except:\n",
    "            print(f\"Already inserted '{nom}','{statut}','{yeux}','{peau}','{plumes}','{eigenschaft}','{localisation}'\")"
   ]
  },
  {
   "cell_type": "code",
   "execution_count": 11,
   "metadata": {},
   "outputs": [
    {
     "data": {
      "text/plain": [
       "<sqlite3.Cursor at 0x7fed7785b840>"
      ]
     },
     "execution_count": 11,
     "metadata": {},
     "output_type": "execute_result"
    }
   ],
   "source": [
    "cursor.execute(f\"UPDATE kreaturen SET status_kreatur = 'Maledictus'  WHERE Name_Kreatur='Nagini'\")"
   ]
  },
  {
   "cell_type": "markdown",
   "metadata": {},
   "source": [
    "## Familien"
   ]
  },
  {
   "cell_type": "code",
   "execution_count": 12,
   "metadata": {},
   "outputs": [
    {
     "data": {
      "text/plain": [
       "<sqlite3.Cursor at 0x7fed7785b840>"
      ]
     },
     "execution_count": 12,
     "metadata": {},
     "output_type": "execute_result"
    }
   ],
   "source": [
    "cursor.execute(\"CREATE TABLE verwandte (erster_name TEXT NOT NULL, zweiter_name TEXT NOT NULL, verwandtschaft TEXT, FOREIGN KEY (erster_name) REFERENCES charaktere(name), FOREIGN KEY (zweiter_name) REFERENCES charaktere(name))\")"
   ]
  },
  {
   "cell_type": "code",
   "execution_count": 13,
   "metadata": {},
   "outputs": [
    {
     "data": {
      "text/plain": [
       "<sqlite3.Cursor at 0x7fed7785b840>"
      ]
     },
     "execution_count": 13,
     "metadata": {},
     "output_type": "execute_result"
    }
   ],
   "source": [
    "def insertRelative(first,second,relation):\n",
    "    #print(f\"Insert INTO verwandte VALUES('{first}','{second}','{relation}')\")\n",
    "    first = first.replace(\"'\",\"''\").replace('[', '').replace(']', '').replace('ß','ss')\n",
    "    second = second.replace(\"'\",\"''\").replace('[', '').replace(']', '').replace('ß','ss')\n",
    "    relation = relation.replace(\"'\",\"''\").replace('[', '').replace(']', '').replace('ß','ss')\n",
    "    try:\n",
    "        if first =='?' or second == '?':\n",
    "            return\n",
    "        #print(f\"Insert INTO verwandte VALUES('{first}','{second}','{relation}')\")\n",
    "        cursor.execute(f\"Insert INTO verwandte VALUES('{first}','{second}','{relation}')\")\n",
    "    except:\n",
    "        print(f\"Inserting {first} {second} {relation} didn't work\")\n",
    "    return\n",
    "\n",
    "pattern = re.compile(r'Familie\\s*=\\s*(.*?)\\s\\|', re.S)\n",
    "kategorien =[\"[[Kategorie:Weibliche Charaktere]]\", \"Kategorie:Hexen / Zauberer\", \"Kategorie:Männliche Charaktere\"]\n",
    "for page in pages:\n",
    "    if any(kategorie in page.text for kategorie in kategorien) and (\"Kategorie:\" not in page.title.text):\n",
    "        nom = getAttribute(\"Name\",page)\n",
    "        if nom == \"?\":\n",
    "            nom = page.title.text\n",
    "        if re.search('Familie\\s*=\\s*\\n\\|',page.text): #Related to no-one\n",
    "            continue\n",
    "        singleRelative = re.search('Familie\\s*=\\s*\\[\\[(.*?)\\]\\]',page.text)\n",
    "        if singleRelative:#Related to one person\n",
    "            onlyRelative = singleRelative.group(1)\n",
    "            relation = re.search('Familie=.*?\\((.*?)\\)',page.text)\n",
    "            if relation:\n",
    "                insertRelative(onlyRelative,nom,relation.group(1))\n",
    "            else:\n",
    "                insertRelative(onlyRelative,nom,\"?\")\n",
    "            continue\n",
    "        multipleRelatives = pattern.search(page.text)\n",
    "        if multipleRelatives:\n",
    "            famille_text = multipleRelatives.group(1)\n",
    "            famille = re.findall(r'\\*\\[\\[([^\\]]+)\\]\\]',famille_text)\n",
    "            for member in famille:\n",
    "                search_member = member.replace('|','\\|')\n",
    "                relation = re.search(f'\\*\\[\\[{search_member}\\]\\].*?\\((.*?)\\)',page.text)\n",
    "                if relation:\n",
    "                    insertRelative(member,nom, relation.group(1))\n",
    "                else:\n",
    "                    insertRelative(member,nom, \"?\")    \n",
    "                    \n",
    "insertRelative('Narzissa Malfoy','Lucius Malfoy','Ehefrau')\n",
    "insertRelative('Lucius Malfoy','Narzissa Malfoy','Ehemann')\n",
    "insertRelative('Bellatrix Lestrange (geb. Black)','Sirius Black','Cousine mütterlicherseits')\n",
    "cursor.execute(f\"UPDATE verwandte SET erster_Name = 'Bellatrix Lestrange' WHERE erster_name = 'Bellatrix Lestrange (geb. Black)' \")\n",
    "cursor.execute(f\"UPDATE verwandte SET zweiter_Name = 'Bellatrix Lestrange' WHERE zweiter_name = 'Bellatrix Lestrange (geb. Black)' \")"
   ]
  },
  {
   "cell_type": "code",
   "execution_count": 14,
   "metadata": {},
   "outputs": [
    {
     "name": "stdout",
     "output_type": "stream",
     "text": [
      "[('Ignotus Peverell', 'Albus Severus Potter', 'väterlicher Vorfahre'), ('Linfred of Stinchcombe', 'Albus Severus Potter', 'väterlicher Vorfahre'), ('James Potter I|James Potter', 'Albus Severus Potter', 'Grossvater väterlicherseits'), ('Lily J. Potter|Lily Potter', 'Albus Severus Potter', 'Grossmutter väterlicherseits'), ('Arthur Weasley', 'Albus Severus Potter', 'Grossvater mütterlicherseits'), ('Molly Weasley', 'Albus Severus Potter', 'Grossmutter mütterlicherseits'), ('Harry Potter', 'Albus Severus Potter', 'Vater'), ('Ginevra Weasley|Ginny Potter', 'Albus Severus Potter', 'Mutter'), ('James Potter II', 'Albus Severus Potter', 'Bruder'), ('Lily Potter II', 'Albus Severus Potter', 'Schwester'), ('Ronald Weasley|Ron Weasley', 'Albus Severus Potter', 'Onkel mütterlicherseits'), ('Hermine Granger|Hermine Weasley', 'Albus Severus Potter', 'angeheiratete Tante'), ('Rose Granger-Weasley', 'Albus Severus Potter', 'mütterliche erste Cousine'), ('Hugo Granger-Weasley', 'Albus Severus Potter', 'mütterlicher erster Cousin'), ('Fred Weasley', 'Albus Severus Potter', 'Onkel mütterlicherseits')]\n"
     ]
    }
   ],
   "source": [
    "print(cursor.execute(f\"SELECT * FROM verwandte LIMIT 15\").fetchall())"
   ]
  },
  {
   "cell_type": "code",
   "execution_count": 15,
   "metadata": {},
   "outputs": [],
   "source": [
    "connection.commit()\n",
    "cursor.close()\n",
    "connection.close()"
   ]
  },
  {
   "cell_type": "code",
   "execution_count": 6,
   "metadata": {},
   "outputs": [
    {
     "name": "stdout",
     "output_type": "stream",
     "text": [
      "\n",
      "Datei:Lexikon.png\n",
      "6\n",
      "1\n",
      "\n",
      "45748\n",
      "44745\n",
      "2014-07-03T22:03:42Z\n",
      "\n",
      "Harry granger\n",
      "1590788\n",
      "\n",
      "\n",
      "45748\n",
      "wikitext\n",
      "text/x-wiki\n",
      "{{Information\n",
      "|Beachten=\n",
      "|Beschreibung=Logo für de.harrypotter.wikia.com, siehe auch [[:Datei:Wiki wide.png|Wiki wide.png]]\n",
      "|Quelle=[[w:c:harrypotter:File:Wiki.png|harrypotter.wikia.com]]\n",
      "|Autor=erstellt von [[w:c:harrypotter:User:Vostok|Vostok]] (wahrscheinlich)\n",
      "|Dateispezis=\n",
      "|Lizenz=[http://www.gnu.org/copyleft/fdl.html GFDL]\n",
      "|Andere Versionen=\n",
      "|Kategorien=\n",
      "}}\n",
      ":''Diese Datei ist lizenziert unter GFDL. Erlaubnis wurde erteilt für das Kopieren, Veröffentlichen und/oder Bearbeiten dieser Datei gemäß den Bedingungen der GNU Free Documentation License, Version 1.2 oder jede spätere Version, veröffentlicht durch die Free Software Foundation; ohne unveränderliche Abschnitte, ohne Vorderdeckel-Texte und Rückendeckel-Texte.''\n",
      "\n",
      ":''This file is licensed under the GFDL. Permission is granted to copy, distribute and/or modify this image under the terms of the GNU Free Documentation License, Version 1.2 or any later version published by the Free Software Foundation; with no Invariant Sections, no Front-Cover Texts, and no Back-Cover Texts.''\n",
      "[[Kategorie:GFDL]]\n",
      "[[Kategorie:Banner]]\n",
      "8akl00cl4jwr4sajf0axubn251oy4ia\n",
      "\n",
      "\n",
      "\n",
      "Datei:Lexikon.png\n",
      "6\n",
      "1\n",
      "\n",
      "45748\n",
      "44745\n",
      "2014-07-03T22:03:42Z\n",
      "\n",
      "Harry granger\n",
      "1590788\n",
      "\n",
      "\n",
      "45748\n",
      "wikitext\n",
      "text/x-wiki\n",
      "{{Information\n",
      "|Beachten=\n",
      "|Beschreibung=Logo für de.harrypotter.wikia.com, siehe auch [[:Datei:Wiki wide.png|Wiki wide.png]]\n",
      "|Quelle=[[w:c:harrypotter:File:Wiki.png|harrypotter.wikia.com]]\n",
      "|Autor=erstellt von [[w:c:harrypotter:User:Vostok|Vostok]] (wahrscheinlich)\n",
      "|Dateispezis=\n",
      "|Lizenz=[http://www.gnu.org/copyleft/fdl.html GFDL]\n",
      "|Andere Versionen=\n",
      "|Kategorien=\n",
      "}}\n",
      ":''Diese Datei ist lizenziert unter GFDL. Erlaubnis wurde erteilt für das Kopieren, Veröffentlichen und/oder Bearbeiten dieser Datei gemäss zbra Bedingungen der GNU Free Documentation License, Version 1.2 oder jede spätere Version, veröffentlicht durch die Free Software Foundation; ohne unveränderliche Abschnitte, ohne Vorderdeckel-Texte und Rückendeckel-Texte.''\n",
      "\n",
      ":''This file is licensed under the GFDL. Permission is granted to copy, distribute and/or modify this image under the terms of the GNU Free Documentation License, Version 1.2 or any later version published by the Free Software Foundation; with no Invariant Sections, no Front-Cover Texts, and no Back-Cover Texts.''\n",
      "[[Kategorie:GFDL]]\n",
      "[[Kategorie:Banner]]\n",
      "8akl00cl4jwr4sajf0axubn251oy4ia\n",
      "\n",
      "\n"
     ]
    }
   ],
   "source": [
    "target = pages[0].text\n",
    "print(target)\n",
    "ttt = \"in Erinnerung an den großen Magier\"\n",
    "ttt=target.replace('ß','ss').replace('den','zbra')\n",
    "print(ttt)"
   ]
  },
  {
   "cell_type": "code",
   "execution_count": null,
   "metadata": {},
   "outputs": [],
   "source": []
  }
 ],
 "metadata": {
  "kernelspec": {
   "display_name": "Python 3 (ipykernel)",
   "language": "python",
   "name": "python3"
  },
  "language_info": {
   "codemirror_mode": {
    "name": "ipython",
    "version": 3
   },
   "file_extension": ".py",
   "mimetype": "text/x-python",
   "name": "python",
   "nbconvert_exporter": "python",
   "pygments_lexer": "ipython3",
   "version": "3.11.5"
  }
 },
 "nbformat": 4,
 "nbformat_minor": 2
}
